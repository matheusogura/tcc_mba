{
  "nbformat": 4,
  "nbformat_minor": 0,
  "metadata": {
    "colab": {
      "name": "TCC Analitics.ipynb",
      "provenance": [],
      "collapsed_sections": []
    },
    "kernelspec": {
      "name": "python3",
      "display_name": "Python 3"
    },
    "language_info": {
      "name": "python"
    }
  },
  "cells": [
    {
      "cell_type": "code",
      "metadata": {
        "colab": {
          "base_uri": "https://localhost:8080/"
        },
        "id": "zxCMzcgWis_z",
        "outputId": "da13339e-d07c-43c7-e013-503fef9130ef"
      },
      "source": [
        "!pip install feature_engine"
      ],
      "execution_count": 1,
      "outputs": [
        {
          "output_type": "stream",
          "name": "stdout",
          "text": [
            "Requirement already satisfied: feature_engine in /usr/local/lib/python3.7/dist-packages (1.1.2)\n",
            "Requirement already satisfied: scipy>=1.4.1 in /usr/local/lib/python3.7/dist-packages (from feature_engine) (1.4.1)\n",
            "Requirement already satisfied: numpy>=1.18.2 in /usr/local/lib/python3.7/dist-packages (from feature_engine) (1.19.5)\n",
            "Requirement already satisfied: pandas>=1.0.3 in /usr/local/lib/python3.7/dist-packages (from feature_engine) (1.1.5)\n",
            "Requirement already satisfied: statsmodels>=0.11.1 in /usr/local/lib/python3.7/dist-packages (from feature_engine) (0.13.0)\n",
            "Requirement already satisfied: scikit-learn>=0.22.2 in /usr/local/lib/python3.7/dist-packages (from feature_engine) (0.22.2.post1)\n",
            "Requirement already satisfied: python-dateutil>=2.7.3 in /usr/local/lib/python3.7/dist-packages (from pandas>=1.0.3->feature_engine) (2.8.2)\n",
            "Requirement already satisfied: pytz>=2017.2 in /usr/local/lib/python3.7/dist-packages (from pandas>=1.0.3->feature_engine) (2018.9)\n",
            "Requirement already satisfied: six>=1.5 in /usr/local/lib/python3.7/dist-packages (from python-dateutil>=2.7.3->pandas>=1.0.3->feature_engine) (1.15.0)\n",
            "Requirement already satisfied: joblib>=0.11 in /usr/local/lib/python3.7/dist-packages (from scikit-learn>=0.22.2->feature_engine) (1.0.1)\n",
            "Requirement already satisfied: patsy>=0.5.2 in /usr/local/lib/python3.7/dist-packages (from statsmodels>=0.11.1->feature_engine) (0.5.2)\n"
          ]
        }
      ]
    },
    {
      "cell_type": "code",
      "metadata": {
        "id": "lhHCjoUQgW6P"
      },
      "source": [
        "import pandas as pd\n",
        "import numpy as np\n",
        "from datetime import datetime\n",
        "import matplotlib.pyplot as plt\n",
        "import matplotlib\n",
        "import seaborn as sns\n",
        "from sklearn.preprocessing import StandardScaler\n",
        "from feature_engine.wrappers import SklearnTransformerWrapper\n",
        "from sklearn.pipeline import Pipeline\n",
        "from sklearn.metrics import mean_absolute_error, mean_squared_error, mean_squared_log_error      \n",
        "from sklearn.metrics import median_absolute_error, r2_score\n",
        "import numpy"
      ],
      "execution_count": 2,
      "outputs": []
    },
    {
      "cell_type": "code",
      "metadata": {
        "id": "k1xao6BRgjIp"
      },
      "source": [
        "df = pd.read_csv('/content/drive/MyDrive/FIA_python/TCC/data/ITSA4.csv', sep=',')\n",
        "df_ibov = pd.read_csv ('/content/drive/MyDrive/FIA_python/TCC/data/Ibov.csv', sep=',')\n",
        "df_usd = pd.read_csv ('/content/drive/MyDrive/FIA_python/TCC/data/USD.csv', sep=',')"
      ],
      "execution_count": 3,
      "outputs": []
    },
    {
      "cell_type": "code",
      "metadata": {
        "colab": {
          "base_uri": "https://localhost:8080/",
          "height": 204
        },
        "id": "dhdIvLdAVvbt",
        "outputId": "b237d6ac-87c4-455e-b66d-4174c3345b80"
      },
      "source": [
        "df_ibov.head()"
      ],
      "execution_count": 4,
      "outputs": [
        {
          "output_type": "execute_result",
          "data": {
            "text/html": [
              "<div>\n",
              "<style scoped>\n",
              "    .dataframe tbody tr th:only-of-type {\n",
              "        vertical-align: middle;\n",
              "    }\n",
              "\n",
              "    .dataframe tbody tr th {\n",
              "        vertical-align: top;\n",
              "    }\n",
              "\n",
              "    .dataframe thead th {\n",
              "        text-align: right;\n",
              "    }\n",
              "</style>\n",
              "<table border=\"1\" class=\"dataframe\">\n",
              "  <thead>\n",
              "    <tr style=\"text-align: right;\">\n",
              "      <th></th>\n",
              "      <th>Data</th>\n",
              "      <th>Último</th>\n",
              "      <th>Abertura</th>\n",
              "      <th>Máxima</th>\n",
              "      <th>Mínima</th>\n",
              "      <th>Vol.</th>\n",
              "      <th>Var%</th>\n",
              "    </tr>\n",
              "  </thead>\n",
              "  <tbody>\n",
              "    <tr>\n",
              "      <th>0</th>\n",
              "      <td>21.05.2021</td>\n",
              "      <td>122.592,47</td>\n",
              "      <td>122.701,44</td>\n",
              "      <td>122.799,36</td>\n",
              "      <td>121.760,37</td>\n",
              "      <td>9,49M</td>\n",
              "      <td>-0,09%</td>\n",
              "    </tr>\n",
              "    <tr>\n",
              "      <th>1</th>\n",
              "      <td>20.05.2021</td>\n",
              "      <td>122.700,79</td>\n",
              "      <td>122.635,94</td>\n",
              "      <td>122.733,95</td>\n",
              "      <td>122.136,16</td>\n",
              "      <td>7,91M</td>\n",
              "      <td>0,05%</td>\n",
              "    </tr>\n",
              "    <tr>\n",
              "      <th>2</th>\n",
              "      <td>19.05.2021</td>\n",
              "      <td>122.636,30</td>\n",
              "      <td>122.975,93</td>\n",
              "      <td>123.013,40</td>\n",
              "      <td>121.595,27</td>\n",
              "      <td>8,83M</td>\n",
              "      <td>-0,28%</td>\n",
              "    </tr>\n",
              "    <tr>\n",
              "      <th>3</th>\n",
              "      <td>18.05.2021</td>\n",
              "      <td>122.979,96</td>\n",
              "      <td>122.937,42</td>\n",
              "      <td>123.543,68</td>\n",
              "      <td>122.549,79</td>\n",
              "      <td>7,84M</td>\n",
              "      <td>0,03%</td>\n",
              "    </tr>\n",
              "    <tr>\n",
              "      <th>4</th>\n",
              "      <td>17.05.2021</td>\n",
              "      <td>122.937,87</td>\n",
              "      <td>121.880,28</td>\n",
              "      <td>123.074,21</td>\n",
              "      <td>121.680,47</td>\n",
              "      <td>7,41M</td>\n",
              "      <td>0,87%</td>\n",
              "    </tr>\n",
              "  </tbody>\n",
              "</table>\n",
              "</div>"
            ],
            "text/plain": [
              "         Data      Último    Abertura      Máxima      Mínima   Vol.    Var%\n",
              "0  21.05.2021  122.592,47  122.701,44  122.799,36  121.760,37  9,49M  -0,09%\n",
              "1  20.05.2021  122.700,79  122.635,94  122.733,95  122.136,16  7,91M   0,05%\n",
              "2  19.05.2021  122.636,30  122.975,93  123.013,40  121.595,27  8,83M  -0,28%\n",
              "3  18.05.2021  122.979,96  122.937,42  123.543,68  122.549,79  7,84M   0,03%\n",
              "4  17.05.2021  122.937,87  121.880,28  123.074,21  121.680,47  7,41M   0,87%"
            ]
          },
          "metadata": {},
          "execution_count": 4
        }
      ]
    },
    {
      "cell_type": "code",
      "metadata": {
        "id": "i5JCwbFdhJQU",
        "colab": {
          "base_uri": "https://localhost:8080/"
        },
        "outputId": "6419dcf1-a977-4f47-f682-cf10c3d88c87"
      },
      "source": [
        "df.tail(), df.head()"
      ],
      "execution_count": 5,
      "outputs": [
        {
          "output_type": "execute_result",
          "data": {
            "text/plain": [
              "(            Data Último Abertura Máxima Mínima    Vol.    Var%\n",
              " 4046  07.01.2005   1,01     1,01   1,03   1,01  11,35M   0,00%\n",
              " 4047  06.01.2005   1,01     1,02   1,02   1,00   8,45M  -0,98%\n",
              " 4048  05.01.2005   1,02     1,03   1,04   1,01  11,55M  -0,97%\n",
              " 4049  04.01.2005   1,03     1,04   1,04   1,02  13,03M   0,00%\n",
              " 4050  03.01.2005   1,03     1,02   1,04   1,02   8,07M   0,98%,\n",
              "          Data Último Abertura Máxima Mínima    Vol.    Var%\n",
              " 0  21.05.2021  10,84    10,79  10,85  10,65  18,44M   0,56%\n",
              " 1  20.05.2021  10,78    10,74  10,89  10,69  28,26M   0,37%\n",
              " 2  19.05.2021  10,74    10,54  10,74  10,49  21,00M   1,13%\n",
              " 3  18.05.2021  10,62    10,55  10,71  10,55  18,78M  -0,28%\n",
              " 4  17.05.2021  10,65    10,61  10,65  10,45  27,97M   0,09%)"
            ]
          },
          "metadata": {},
          "execution_count": 5
        }
      ]
    },
    {
      "cell_type": "code",
      "metadata": {
        "id": "phvKppqIhMFW",
        "colab": {
          "base_uri": "https://localhost:8080/"
        },
        "outputId": "5bb46f21-030d-4034-9587-2a38d86ab582"
      },
      "source": [
        "df.count()"
      ],
      "execution_count": 6,
      "outputs": [
        {
          "output_type": "execute_result",
          "data": {
            "text/plain": [
              "Data        4051\n",
              "Último      4051\n",
              "Abertura    4051\n",
              "Máxima      4051\n",
              "Mínima      4051\n",
              "Vol.        4051\n",
              "Var%        4051\n",
              "dtype: int64"
            ]
          },
          "metadata": {},
          "execution_count": 6
        }
      ]
    },
    {
      "cell_type": "code",
      "metadata": {
        "id": "LMFTRlCchaPd",
        "colab": {
          "base_uri": "https://localhost:8080/"
        },
        "outputId": "b83f9d1a-dc6c-49bc-b698-7ee86da1287b"
      },
      "source": [
        "df_aux = df\n",
        "print(df_aux)"
      ],
      "execution_count": 7,
      "outputs": [
        {
          "output_type": "stream",
          "name": "stdout",
          "text": [
            "            Data Último Abertura Máxima Mínima    Vol.    Var%\n",
            "0     21.05.2021  10,84    10,79  10,85  10,65  18,44M   0,56%\n",
            "1     20.05.2021  10,78    10,74  10,89  10,69  28,26M   0,37%\n",
            "2     19.05.2021  10,74    10,54  10,74  10,49  21,00M   1,13%\n",
            "3     18.05.2021  10,62    10,55  10,71  10,55  18,78M  -0,28%\n",
            "4     17.05.2021  10,65    10,61  10,65  10,45  27,97M   0,09%\n",
            "...          ...    ...      ...    ...    ...     ...     ...\n",
            "4046  07.01.2005   1,01     1,01   1,03   1,01  11,35M   0,00%\n",
            "4047  06.01.2005   1,01     1,02   1,02   1,00   8,45M  -0,98%\n",
            "4048  05.01.2005   1,02     1,03   1,04   1,01  11,55M  -0,97%\n",
            "4049  04.01.2005   1,03     1,04   1,04   1,02  13,03M   0,00%\n",
            "4050  03.01.2005   1,03     1,02   1,04   1,02   8,07M   0,98%\n",
            "\n",
            "[4051 rows x 7 columns]\n"
          ]
        }
      ]
    },
    {
      "cell_type": "markdown",
      "metadata": {
        "id": "1D7JQV2OnDfW"
      },
      "source": [
        "# Arrumando a Base de dados"
      ]
    },
    {
      "cell_type": "code",
      "metadata": {
        "id": "ykqWm24khegq",
        "colab": {
          "base_uri": "https://localhost:8080/",
          "height": 0
        },
        "outputId": "6672689f-f924-4715-97ec-8faa7f4983af"
      },
      "source": [
        "# substituindo ',' por '.' para conseguir trabalhar com os dados.\n",
        "\n",
        "df_aux['Último']    = df_aux['Último'].str.replace(',','.')\n",
        "df_aux['Abertura']  = df_aux['Abertura'].str.replace(',','.')\n",
        "df_aux['Máxima']    = df_aux['Máxima'].str.replace(',','.')\n",
        "df_aux['Mínima']    = df_aux['Mínima'].str.replace(',','.')\n",
        "df_aux['Var%']      = df_aux['Var%'].str.replace(',','.')\n",
        "df_aux['Vol.']      = df_aux['Vol.'].str.replace(',','.')\n",
        "df_aux['Vol.']      = df_aux['Vol.'].str.replace('M','')\n",
        "df_aux['Var%']      = df_aux['Var%'].str.replace('%','')\n",
        "df_aux['Data']      = df_aux['Data'].str.replace('.','-')\n",
        "\n",
        "df_aux.head()"
      ],
      "execution_count": 8,
      "outputs": [
        {
          "output_type": "execute_result",
          "data": {
            "text/html": [
              "<div>\n",
              "<style scoped>\n",
              "    .dataframe tbody tr th:only-of-type {\n",
              "        vertical-align: middle;\n",
              "    }\n",
              "\n",
              "    .dataframe tbody tr th {\n",
              "        vertical-align: top;\n",
              "    }\n",
              "\n",
              "    .dataframe thead th {\n",
              "        text-align: right;\n",
              "    }\n",
              "</style>\n",
              "<table border=\"1\" class=\"dataframe\">\n",
              "  <thead>\n",
              "    <tr style=\"text-align: right;\">\n",
              "      <th></th>\n",
              "      <th>Data</th>\n",
              "      <th>Último</th>\n",
              "      <th>Abertura</th>\n",
              "      <th>Máxima</th>\n",
              "      <th>Mínima</th>\n",
              "      <th>Vol.</th>\n",
              "      <th>Var%</th>\n",
              "    </tr>\n",
              "  </thead>\n",
              "  <tbody>\n",
              "    <tr>\n",
              "      <th>0</th>\n",
              "      <td>21-05-2021</td>\n",
              "      <td>10.84</td>\n",
              "      <td>10.79</td>\n",
              "      <td>10.85</td>\n",
              "      <td>10.65</td>\n",
              "      <td>18.44</td>\n",
              "      <td>0.56</td>\n",
              "    </tr>\n",
              "    <tr>\n",
              "      <th>1</th>\n",
              "      <td>20-05-2021</td>\n",
              "      <td>10.78</td>\n",
              "      <td>10.74</td>\n",
              "      <td>10.89</td>\n",
              "      <td>10.69</td>\n",
              "      <td>28.26</td>\n",
              "      <td>0.37</td>\n",
              "    </tr>\n",
              "    <tr>\n",
              "      <th>2</th>\n",
              "      <td>19-05-2021</td>\n",
              "      <td>10.74</td>\n",
              "      <td>10.54</td>\n",
              "      <td>10.74</td>\n",
              "      <td>10.49</td>\n",
              "      <td>21.00</td>\n",
              "      <td>1.13</td>\n",
              "    </tr>\n",
              "    <tr>\n",
              "      <th>3</th>\n",
              "      <td>18-05-2021</td>\n",
              "      <td>10.62</td>\n",
              "      <td>10.55</td>\n",
              "      <td>10.71</td>\n",
              "      <td>10.55</td>\n",
              "      <td>18.78</td>\n",
              "      <td>-0.28</td>\n",
              "    </tr>\n",
              "    <tr>\n",
              "      <th>4</th>\n",
              "      <td>17-05-2021</td>\n",
              "      <td>10.65</td>\n",
              "      <td>10.61</td>\n",
              "      <td>10.65</td>\n",
              "      <td>10.45</td>\n",
              "      <td>27.97</td>\n",
              "      <td>0.09</td>\n",
              "    </tr>\n",
              "  </tbody>\n",
              "</table>\n",
              "</div>"
            ],
            "text/plain": [
              "         Data Último Abertura Máxima Mínima   Vol.   Var%\n",
              "0  21-05-2021  10.84    10.79  10.85  10.65  18.44   0.56\n",
              "1  20-05-2021  10.78    10.74  10.89  10.69  28.26   0.37\n",
              "2  19-05-2021  10.74    10.54  10.74  10.49  21.00   1.13\n",
              "3  18-05-2021  10.62    10.55  10.71  10.55  18.78  -0.28\n",
              "4  17-05-2021  10.65    10.61  10.65  10.45  27.97   0.09"
            ]
          },
          "metadata": {},
          "execution_count": 8
        }
      ]
    },
    {
      "cell_type": "code",
      "metadata": {
        "id": "EjIp66Qw4eZl",
        "colab": {
          "base_uri": "https://localhost:8080/",
          "height": 0
        },
        "outputId": "850e09a2-6362-4140-b085-e8306cbacd01"
      },
      "source": [
        "# transformando as variáveis em float\n",
        "\n",
        "df_aux['Último']    = df_aux['Último'].astype(float)\n",
        "df_aux['Último']    = df_aux['Último'].astype(float)\n",
        "df_aux['Abertura']  = df_aux['Abertura'].astype(float)\n",
        "df_aux['Máxima']    = df_aux['Máxima'].astype(float)\n",
        "df_aux['Mínima']    = df_aux['Mínima'].astype(float)\n",
        "df_aux['Var%']      = df_aux['Var%'].astype(float)/100\n",
        "df_aux['Vol.']      = df_aux['Vol.'].astype(float)*1000000\n",
        "df_aux.head()"
      ],
      "execution_count": 9,
      "outputs": [
        {
          "output_type": "execute_result",
          "data": {
            "text/html": [
              "<div>\n",
              "<style scoped>\n",
              "    .dataframe tbody tr th:only-of-type {\n",
              "        vertical-align: middle;\n",
              "    }\n",
              "\n",
              "    .dataframe tbody tr th {\n",
              "        vertical-align: top;\n",
              "    }\n",
              "\n",
              "    .dataframe thead th {\n",
              "        text-align: right;\n",
              "    }\n",
              "</style>\n",
              "<table border=\"1\" class=\"dataframe\">\n",
              "  <thead>\n",
              "    <tr style=\"text-align: right;\">\n",
              "      <th></th>\n",
              "      <th>Data</th>\n",
              "      <th>Último</th>\n",
              "      <th>Abertura</th>\n",
              "      <th>Máxima</th>\n",
              "      <th>Mínima</th>\n",
              "      <th>Vol.</th>\n",
              "      <th>Var%</th>\n",
              "    </tr>\n",
              "  </thead>\n",
              "  <tbody>\n",
              "    <tr>\n",
              "      <th>0</th>\n",
              "      <td>21-05-2021</td>\n",
              "      <td>10.84</td>\n",
              "      <td>10.79</td>\n",
              "      <td>10.85</td>\n",
              "      <td>10.65</td>\n",
              "      <td>18440000.0</td>\n",
              "      <td>0.0056</td>\n",
              "    </tr>\n",
              "    <tr>\n",
              "      <th>1</th>\n",
              "      <td>20-05-2021</td>\n",
              "      <td>10.78</td>\n",
              "      <td>10.74</td>\n",
              "      <td>10.89</td>\n",
              "      <td>10.69</td>\n",
              "      <td>28260000.0</td>\n",
              "      <td>0.0037</td>\n",
              "    </tr>\n",
              "    <tr>\n",
              "      <th>2</th>\n",
              "      <td>19-05-2021</td>\n",
              "      <td>10.74</td>\n",
              "      <td>10.54</td>\n",
              "      <td>10.74</td>\n",
              "      <td>10.49</td>\n",
              "      <td>21000000.0</td>\n",
              "      <td>0.0113</td>\n",
              "    </tr>\n",
              "    <tr>\n",
              "      <th>3</th>\n",
              "      <td>18-05-2021</td>\n",
              "      <td>10.62</td>\n",
              "      <td>10.55</td>\n",
              "      <td>10.71</td>\n",
              "      <td>10.55</td>\n",
              "      <td>18780000.0</td>\n",
              "      <td>-0.0028</td>\n",
              "    </tr>\n",
              "    <tr>\n",
              "      <th>4</th>\n",
              "      <td>17-05-2021</td>\n",
              "      <td>10.65</td>\n",
              "      <td>10.61</td>\n",
              "      <td>10.65</td>\n",
              "      <td>10.45</td>\n",
              "      <td>27970000.0</td>\n",
              "      <td>0.0009</td>\n",
              "    </tr>\n",
              "  </tbody>\n",
              "</table>\n",
              "</div>"
            ],
            "text/plain": [
              "         Data  Último  Abertura  Máxima  Mínima        Vol.    Var%\n",
              "0  21-05-2021   10.84     10.79   10.85   10.65  18440000.0  0.0056\n",
              "1  20-05-2021   10.78     10.74   10.89   10.69  28260000.0  0.0037\n",
              "2  19-05-2021   10.74     10.54   10.74   10.49  21000000.0  0.0113\n",
              "3  18-05-2021   10.62     10.55   10.71   10.55  18780000.0 -0.0028\n",
              "4  17-05-2021   10.65     10.61   10.65   10.45  27970000.0  0.0009"
            ]
          },
          "metadata": {},
          "execution_count": 9
        }
      ]
    },
    {
      "cell_type": "code",
      "metadata": {
        "id": "gt-1bpZMTthu"
      },
      "source": [
        "# filtrando as bases para acrescentar\n",
        "df_aux_2 = df_ibov.filter(['Data','Último']).copy()\n",
        "df_usd = df_usd.filter(['Data','Último']).copy()"
      ],
      "execution_count": 10,
      "outputs": []
    },
    {
      "cell_type": "code",
      "metadata": {
        "id": "9UpV2HAtcYsQ"
      },
      "source": [
        "# Renomeando as colunas\n",
        "df_aux_2.rename(columns={'Último':'ibov'}, inplace=True)\n",
        "df_usd.rename(columns={'Último': 'usd'}, inplace = True)"
      ],
      "execution_count": 11,
      "outputs": []
    },
    {
      "cell_type": "code",
      "metadata": {
        "id": "oaE5imXxThoS"
      },
      "source": [
        "# corrigindo a base\n",
        "df_aux_2['ibov'] = df_aux_2['ibov'].str.replace('.','')\n",
        "df_aux_2['ibov'] = df_aux_2['ibov'].str.replace(',','.')\n",
        "df_aux_2['ibov'] = df_aux_2['ibov'].astype(float)"
      ],
      "execution_count": 12,
      "outputs": []
    },
    {
      "cell_type": "code",
      "metadata": {
        "id": "PvwuVGRnT-ou"
      },
      "source": [
        "# corrigindo a base USD\n",
        "\n",
        "df_usd['usd'] = df_usd['usd'].str.replace(',','.').astype(float)"
      ],
      "execution_count": 13,
      "outputs": []
    },
    {
      "cell_type": "code",
      "metadata": {
        "id": "0fEfXr1-P3RF",
        "colab": {
          "base_uri": "https://localhost:8080/",
          "height": 0
        },
        "outputId": "73bdca4c-4ae8-45d8-f168-147fa6c66db1"
      },
      "source": [
        "df_aux.describe()"
      ],
      "execution_count": 14,
      "outputs": [
        {
          "output_type": "execute_result",
          "data": {
            "text/html": [
              "<div>\n",
              "<style scoped>\n",
              "    .dataframe tbody tr th:only-of-type {\n",
              "        vertical-align: middle;\n",
              "    }\n",
              "\n",
              "    .dataframe tbody tr th {\n",
              "        vertical-align: top;\n",
              "    }\n",
              "\n",
              "    .dataframe thead th {\n",
              "        text-align: right;\n",
              "    }\n",
              "</style>\n",
              "<table border=\"1\" class=\"dataframe\">\n",
              "  <thead>\n",
              "    <tr style=\"text-align: right;\">\n",
              "      <th></th>\n",
              "      <th>Último</th>\n",
              "      <th>Abertura</th>\n",
              "      <th>Máxima</th>\n",
              "      <th>Mínima</th>\n",
              "      <th>Vol.</th>\n",
              "      <th>Var%</th>\n",
              "    </tr>\n",
              "  </thead>\n",
              "  <tbody>\n",
              "    <tr>\n",
              "      <th>count</th>\n",
              "      <td>4051.000000</td>\n",
              "      <td>4051.000000</td>\n",
              "      <td>4051.000000</td>\n",
              "      <td>4051.000000</td>\n",
              "      <td>4.051000e+03</td>\n",
              "      <td>4051.000000</td>\n",
              "    </tr>\n",
              "    <tr>\n",
              "      <th>mean</th>\n",
              "      <td>5.275858</td>\n",
              "      <td>5.277174</td>\n",
              "      <td>5.343505</td>\n",
              "      <td>5.203360</td>\n",
              "      <td>1.852995e+07</td>\n",
              "      <td>0.000827</td>\n",
              "    </tr>\n",
              "    <tr>\n",
              "      <th>std</th>\n",
              "      <td>3.125757</td>\n",
              "      <td>3.128627</td>\n",
              "      <td>3.161084</td>\n",
              "      <td>3.092108</td>\n",
              "      <td>1.049631e+07</td>\n",
              "      <td>0.022157</td>\n",
              "    </tr>\n",
              "    <tr>\n",
              "      <th>min</th>\n",
              "      <td>0.970000</td>\n",
              "      <td>0.960000</td>\n",
              "      <td>0.980000</td>\n",
              "      <td>0.930000</td>\n",
              "      <td>1.520000e+06</td>\n",
              "      <td>-0.112200</td>\n",
              "    </tr>\n",
              "    <tr>\n",
              "      <th>25%</th>\n",
              "      <td>2.960000</td>\n",
              "      <td>2.960000</td>\n",
              "      <td>3.000000</td>\n",
              "      <td>2.920000</td>\n",
              "      <td>1.149000e+07</td>\n",
              "      <td>-0.011200</td>\n",
              "    </tr>\n",
              "    <tr>\n",
              "      <th>50%</th>\n",
              "      <td>4.200000</td>\n",
              "      <td>4.200000</td>\n",
              "      <td>4.240000</td>\n",
              "      <td>4.150000</td>\n",
              "      <td>1.653000e+07</td>\n",
              "      <td>0.000000</td>\n",
              "    </tr>\n",
              "    <tr>\n",
              "      <th>75%</th>\n",
              "      <td>7.215000</td>\n",
              "      <td>7.225000</td>\n",
              "      <td>7.265000</td>\n",
              "      <td>7.160000</td>\n",
              "      <td>2.276500e+07</td>\n",
              "      <td>0.012000</td>\n",
              "    </tr>\n",
              "    <tr>\n",
              "      <th>max</th>\n",
              "      <td>13.640000</td>\n",
              "      <td>13.490000</td>\n",
              "      <td>13.660000</td>\n",
              "      <td>13.420000</td>\n",
              "      <td>1.169000e+08</td>\n",
              "      <td>0.246100</td>\n",
              "    </tr>\n",
              "  </tbody>\n",
              "</table>\n",
              "</div>"
            ],
            "text/plain": [
              "            Último     Abertura  ...          Vol.         Var%\n",
              "count  4051.000000  4051.000000  ...  4.051000e+03  4051.000000\n",
              "mean      5.275858     5.277174  ...  1.852995e+07     0.000827\n",
              "std       3.125757     3.128627  ...  1.049631e+07     0.022157\n",
              "min       0.970000     0.960000  ...  1.520000e+06    -0.112200\n",
              "25%       2.960000     2.960000  ...  1.149000e+07    -0.011200\n",
              "50%       4.200000     4.200000  ...  1.653000e+07     0.000000\n",
              "75%       7.215000     7.225000  ...  2.276500e+07     0.012000\n",
              "max      13.640000    13.490000  ...  1.169000e+08     0.246100\n",
              "\n",
              "[8 rows x 6 columns]"
            ]
          },
          "metadata": {},
          "execution_count": 14
        }
      ]
    },
    {
      "cell_type": "code",
      "metadata": {
        "id": "zlwryuIi6mWE"
      },
      "source": [
        "#Transformando a coluna Data em data objeto em datetime  \n",
        "\n",
        "df_aux['Data']   = pd.to_datetime(df_aux['Data'])\n",
        "df_aux_2['Data'] = pd.to_datetime(df_aux_2['Data'])\n",
        "df_usd['Data']   = pd.to_datetime(df_usd['Data'])"
      ],
      "execution_count": 15,
      "outputs": []
    },
    {
      "cell_type": "code",
      "metadata": {
        "id": "OHYbB8LCrMLD"
      },
      "source": [
        "# Juntando as bases\n",
        "df_aux = df_aux.set_index('Data').join(df_aux_2.set_index('Data'))\n"
      ],
      "execution_count": 16,
      "outputs": []
    },
    {
      "cell_type": "code",
      "metadata": {
        "id": "50Dzi0f6Bqc3"
      },
      "source": [
        "df_aux = df_aux.join(df_usd.set_index('Data'), on= 'Data')"
      ],
      "execution_count": 17,
      "outputs": []
    },
    {
      "cell_type": "code",
      "metadata": {
        "colab": {
          "base_uri": "https://localhost:8080/",
          "height": 0
        },
        "id": "9wI4HGxadNdy",
        "outputId": "547bf8cb-b0a9-4959-e324-527dafc0d476"
      },
      "source": [
        "df_aux.head()"
      ],
      "execution_count": 18,
      "outputs": [
        {
          "output_type": "execute_result",
          "data": {
            "text/html": [
              "<div>\n",
              "<style scoped>\n",
              "    .dataframe tbody tr th:only-of-type {\n",
              "        vertical-align: middle;\n",
              "    }\n",
              "\n",
              "    .dataframe tbody tr th {\n",
              "        vertical-align: top;\n",
              "    }\n",
              "\n",
              "    .dataframe thead th {\n",
              "        text-align: right;\n",
              "    }\n",
              "</style>\n",
              "<table border=\"1\" class=\"dataframe\">\n",
              "  <thead>\n",
              "    <tr style=\"text-align: right;\">\n",
              "      <th></th>\n",
              "      <th>Último</th>\n",
              "      <th>Abertura</th>\n",
              "      <th>Máxima</th>\n",
              "      <th>Mínima</th>\n",
              "      <th>Vol.</th>\n",
              "      <th>Var%</th>\n",
              "      <th>ibov</th>\n",
              "      <th>usd</th>\n",
              "    </tr>\n",
              "    <tr>\n",
              "      <th>Data</th>\n",
              "      <th></th>\n",
              "      <th></th>\n",
              "      <th></th>\n",
              "      <th></th>\n",
              "      <th></th>\n",
              "      <th></th>\n",
              "      <th></th>\n",
              "      <th></th>\n",
              "    </tr>\n",
              "  </thead>\n",
              "  <tbody>\n",
              "    <tr>\n",
              "      <th>2021-05-21</th>\n",
              "      <td>10.84</td>\n",
              "      <td>10.79</td>\n",
              "      <td>10.85</td>\n",
              "      <td>10.65</td>\n",
              "      <td>18440000.0</td>\n",
              "      <td>0.0056</td>\n",
              "      <td>122592.47</td>\n",
              "      <td>NaN</td>\n",
              "    </tr>\n",
              "    <tr>\n",
              "      <th>2021-05-20</th>\n",
              "      <td>10.78</td>\n",
              "      <td>10.74</td>\n",
              "      <td>10.89</td>\n",
              "      <td>10.69</td>\n",
              "      <td>28260000.0</td>\n",
              "      <td>0.0037</td>\n",
              "      <td>122700.79</td>\n",
              "      <td>NaN</td>\n",
              "    </tr>\n",
              "    <tr>\n",
              "      <th>2021-05-19</th>\n",
              "      <td>10.74</td>\n",
              "      <td>10.54</td>\n",
              "      <td>10.74</td>\n",
              "      <td>10.49</td>\n",
              "      <td>21000000.0</td>\n",
              "      <td>0.0113</td>\n",
              "      <td>122636.30</td>\n",
              "      <td>NaN</td>\n",
              "    </tr>\n",
              "    <tr>\n",
              "      <th>2021-05-18</th>\n",
              "      <td>10.62</td>\n",
              "      <td>10.55</td>\n",
              "      <td>10.71</td>\n",
              "      <td>10.55</td>\n",
              "      <td>18780000.0</td>\n",
              "      <td>-0.0028</td>\n",
              "      <td>122979.96</td>\n",
              "      <td>NaN</td>\n",
              "    </tr>\n",
              "    <tr>\n",
              "      <th>2021-05-17</th>\n",
              "      <td>10.65</td>\n",
              "      <td>10.61</td>\n",
              "      <td>10.65</td>\n",
              "      <td>10.45</td>\n",
              "      <td>27970000.0</td>\n",
              "      <td>0.0009</td>\n",
              "      <td>122937.87</td>\n",
              "      <td>5.2729</td>\n",
              "    </tr>\n",
              "  </tbody>\n",
              "</table>\n",
              "</div>"
            ],
            "text/plain": [
              "            Último  Abertura  Máxima  ...    Var%       ibov     usd\n",
              "Data                                  ...                           \n",
              "2021-05-21   10.84     10.79   10.85  ...  0.0056  122592.47     NaN\n",
              "2021-05-20   10.78     10.74   10.89  ...  0.0037  122700.79     NaN\n",
              "2021-05-19   10.74     10.54   10.74  ...  0.0113  122636.30     NaN\n",
              "2021-05-18   10.62     10.55   10.71  ... -0.0028  122979.96     NaN\n",
              "2021-05-17   10.65     10.61   10.65  ...  0.0009  122937.87  5.2729\n",
              "\n",
              "[5 rows x 8 columns]"
            ]
          },
          "metadata": {},
          "execution_count": 18
        }
      ]
    },
    {
      "cell_type": "code",
      "metadata": {
        "id": "eX6Iw27PQySS",
        "colab": {
          "base_uri": "https://localhost:8080/"
        },
        "outputId": "f52d177f-18da-429c-ba5b-df96e00b2e13"
      },
      "source": [
        "df_aux.max(), df_aux.min()"
      ],
      "execution_count": 19,
      "outputs": [
        {
          "output_type": "execute_result",
          "data": {
            "text/plain": [
              "(Último      1.364000e+01\n",
              " Abertura    1.349000e+01\n",
              " Máxima      1.366000e+01\n",
              " Mínima      1.342000e+01\n",
              " Vol.        1.169000e+08\n",
              " Var%        2.461000e-01\n",
              " ibov        1.250766e+05\n",
              " usd         5.885600e+00\n",
              " dtype: float64, Último      9.700000e-01\n",
              " Abertura    9.600000e-01\n",
              " Máxima      9.800000e-01\n",
              " Mínima      9.300000e-01\n",
              " Vol.        1.520000e+06\n",
              " Var%       -1.122000e-01\n",
              " ibov        2.360997e+04\n",
              " usd         1.538300e+00\n",
              " dtype: float64)"
            ]
          },
          "metadata": {},
          "execution_count": 19
        }
      ]
    },
    {
      "cell_type": "code",
      "metadata": {
        "id": "dAwz4hGPcN70",
        "colab": {
          "base_uri": "https://localhost:8080/"
        },
        "outputId": "c09e7f1c-7d4c-4ab9-ece8-308d65301a57"
      },
      "source": [
        "df_aux.dtypes"
      ],
      "execution_count": 20,
      "outputs": [
        {
          "output_type": "execute_result",
          "data": {
            "text/plain": [
              "Último      float64\n",
              "Abertura    float64\n",
              "Máxima      float64\n",
              "Mínima      float64\n",
              "Vol.        float64\n",
              "Var%        float64\n",
              "ibov        float64\n",
              "usd         float64\n",
              "dtype: object"
            ]
          },
          "metadata": {},
          "execution_count": 20
        }
      ]
    },
    {
      "cell_type": "code",
      "metadata": {
        "id": "RXRobG5_fk6T"
      },
      "source": [
        "data = df_aux.query('Data >= \"2005-01-01\"').sort_values(by='Data', ascending = True).reset_index()"
      ],
      "execution_count": 21,
      "outputs": []
    },
    {
      "cell_type": "code",
      "metadata": {
        "id": "o7eBWkPJhxLN"
      },
      "source": [
        "box1 = data['Último']\n",
        "box2 = data['Abertura']\n",
        "box3 = data['Máxima']\n",
        "box4 = data['Mínima']\n",
        "box5 = data['Vol.']\n",
        "box6 = data['Var%']"
      ],
      "execution_count": 22,
      "outputs": []
    },
    {
      "cell_type": "code",
      "metadata": {
        "colab": {
          "base_uri": "https://localhost:8080/",
          "height": 0
        },
        "id": "hYVos_61ijeY",
        "outputId": "47b696ef-fd48-4b1f-cd78-2c2e4b770c71"
      },
      "source": [
        "data.describe()"
      ],
      "execution_count": 23,
      "outputs": [
        {
          "output_type": "execute_result",
          "data": {
            "text/html": [
              "<div>\n",
              "<style scoped>\n",
              "    .dataframe tbody tr th:only-of-type {\n",
              "        vertical-align: middle;\n",
              "    }\n",
              "\n",
              "    .dataframe tbody tr th {\n",
              "        vertical-align: top;\n",
              "    }\n",
              "\n",
              "    .dataframe thead th {\n",
              "        text-align: right;\n",
              "    }\n",
              "</style>\n",
              "<table border=\"1\" class=\"dataframe\">\n",
              "  <thead>\n",
              "    <tr style=\"text-align: right;\">\n",
              "      <th></th>\n",
              "      <th>Último</th>\n",
              "      <th>Abertura</th>\n",
              "      <th>Máxima</th>\n",
              "      <th>Mínima</th>\n",
              "      <th>Vol.</th>\n",
              "      <th>Var%</th>\n",
              "      <th>ibov</th>\n",
              "      <th>usd</th>\n",
              "    </tr>\n",
              "  </thead>\n",
              "  <tbody>\n",
              "    <tr>\n",
              "      <th>count</th>\n",
              "      <td>4051.000000</td>\n",
              "      <td>4051.000000</td>\n",
              "      <td>4051.000000</td>\n",
              "      <td>4051.000000</td>\n",
              "      <td>4.051000e+03</td>\n",
              "      <td>4051.000000</td>\n",
              "      <td>4051.000000</td>\n",
              "      <td>4047.000000</td>\n",
              "    </tr>\n",
              "    <tr>\n",
              "      <th>mean</th>\n",
              "      <td>5.275858</td>\n",
              "      <td>5.277174</td>\n",
              "      <td>5.343505</td>\n",
              "      <td>5.203360</td>\n",
              "      <td>1.852995e+07</td>\n",
              "      <td>0.000827</td>\n",
              "      <td>62176.177855</td>\n",
              "      <td>2.754286</td>\n",
              "    </tr>\n",
              "    <tr>\n",
              "      <th>std</th>\n",
              "      <td>3.125757</td>\n",
              "      <td>3.128627</td>\n",
              "      <td>3.161084</td>\n",
              "      <td>3.092108</td>\n",
              "      <td>1.049631e+07</td>\n",
              "      <td>0.022157</td>\n",
              "      <td>21532.060700</td>\n",
              "      <td>1.063396</td>\n",
              "    </tr>\n",
              "    <tr>\n",
              "      <th>min</th>\n",
              "      <td>0.970000</td>\n",
              "      <td>0.960000</td>\n",
              "      <td>0.980000</td>\n",
              "      <td>0.930000</td>\n",
              "      <td>1.520000e+06</td>\n",
              "      <td>-0.112200</td>\n",
              "      <td>23609.970000</td>\n",
              "      <td>1.538300</td>\n",
              "    </tr>\n",
              "    <tr>\n",
              "      <th>25%</th>\n",
              "      <td>2.960000</td>\n",
              "      <td>2.960000</td>\n",
              "      <td>3.000000</td>\n",
              "      <td>2.920000</td>\n",
              "      <td>1.149000e+07</td>\n",
              "      <td>-0.011200</td>\n",
              "      <td>49335.375000</td>\n",
              "      <td>1.943350</td>\n",
              "    </tr>\n",
              "    <tr>\n",
              "      <th>50%</th>\n",
              "      <td>4.200000</td>\n",
              "      <td>4.200000</td>\n",
              "      <td>4.240000</td>\n",
              "      <td>4.150000</td>\n",
              "      <td>1.653000e+07</td>\n",
              "      <td>0.000000</td>\n",
              "      <td>58367.050000</td>\n",
              "      <td>2.298800</td>\n",
              "    </tr>\n",
              "    <tr>\n",
              "      <th>75%</th>\n",
              "      <td>7.215000</td>\n",
              "      <td>7.225000</td>\n",
              "      <td>7.265000</td>\n",
              "      <td>7.160000</td>\n",
              "      <td>2.276500e+07</td>\n",
              "      <td>0.012000</td>\n",
              "      <td>69674.715000</td>\n",
              "      <td>3.370100</td>\n",
              "    </tr>\n",
              "    <tr>\n",
              "      <th>max</th>\n",
              "      <td>13.640000</td>\n",
              "      <td>13.490000</td>\n",
              "      <td>13.660000</td>\n",
              "      <td>13.420000</td>\n",
              "      <td>1.169000e+08</td>\n",
              "      <td>0.246100</td>\n",
              "      <td>125076.630000</td>\n",
              "      <td>5.885600</td>\n",
              "    </tr>\n",
              "  </tbody>\n",
              "</table>\n",
              "</div>"
            ],
            "text/plain": [
              "            Último     Abertura  ...           ibov          usd\n",
              "count  4051.000000  4051.000000  ...    4051.000000  4047.000000\n",
              "mean      5.275858     5.277174  ...   62176.177855     2.754286\n",
              "std       3.125757     3.128627  ...   21532.060700     1.063396\n",
              "min       0.970000     0.960000  ...   23609.970000     1.538300\n",
              "25%       2.960000     2.960000  ...   49335.375000     1.943350\n",
              "50%       4.200000     4.200000  ...   58367.050000     2.298800\n",
              "75%       7.215000     7.225000  ...   69674.715000     3.370100\n",
              "max      13.640000    13.490000  ...  125076.630000     5.885600\n",
              "\n",
              "[8 rows x 8 columns]"
            ]
          },
          "metadata": {},
          "execution_count": 23
        }
      ]
    },
    {
      "cell_type": "code",
      "metadata": {
        "colab": {
          "base_uri": "https://localhost:8080/",
          "height": 0
        },
        "id": "6vnBXlE3ElCD",
        "outputId": "9c5e7cdb-b08d-49de-c9fa-a4be8965357d"
      },
      "source": [
        "fig, axs = plt.subplots(2, 3)\n",
        "plt.figure(figsize=(20,10))\n",
        "# último - BOXPLOT\n",
        "axs[0, 0].boxplot(box1)\n",
        "axs[0, 0].set_title('Último')\n",
        "\n",
        "# Abertura - Boxplot\n",
        "axs[0, 1].boxplot(box2)\n",
        "axs[0, 1].set_title('Abertura')\n",
        "\n",
        "# Maximo - Boxplot\n",
        "axs[0, 2].boxplot(box3)\n",
        "axs[0, 2].set_title('Máximo')\n",
        "\n",
        "# Minimo - Boxplot\n",
        "axs[1, 0].boxplot(box4)\n",
        "axs[1, 0].set_title('Mínimo')\n",
        "\n",
        "# Volume - Boxplot\n",
        "axs[1, 1].boxplot(box5,0,'gD')\n",
        "axs[1, 1].set_title('Volume')\n",
        "\n",
        "# Variação - Boxplot\n",
        "axs[1, 2].boxplot(box6,1,'gD')\n",
        "axs[1, 2].set_title('Variação')\n",
        "\n",
        "fig.subplots_adjust(left=0.1, right=1, bottom=0.05, top=0.9,hspace=0.4, wspace=0.3)\n",
        "\n",
        "plt.show()"
      ],
      "execution_count": 24,
      "outputs": [
        {
          "output_type": "display_data",
          "data": {
            "image/png": "[encoded data removed]",
            "text/plain": [
              "<Figure size 432x288 with 6 Axes>"
            ]
          },
          "metadata": {
            "needs_background": "light"
          }
        },
        {
          "output_type": "display_data",
          "data": {
            "text/plain": [
              "<Figure size 1440x720 with 0 Axes>"
            ]
          },
          "metadata": {}
        }
      ]
    },
    {
      "cell_type": "markdown",
      "metadata": {
        "id": "iqzcMbo_g-r5"
      },
      "source": [
        "# Usando Scikit Learn"
      ]
    },
    {
      "cell_type": "code",
      "metadata": {
        "id": "FCAI0tvje-kJ"
      },
      "source": [
        "df = (\n",
        "    df_aux\n",
        "    .sort_values(by='Data', ascending = True)\n",
        "    .reset_index())"
      ],
      "execution_count": 25,
      "outputs": []
    },
    {
      "cell_type": "code",
      "metadata": {
        "id": "8kTerqRNfGP2"
      },
      "source": [
        "df['mês']            = pd.DatetimeIndex(df.Data).month\n",
        "df['dia']            = pd.DatetimeIndex(df.Data).day\n",
        "df['weekday']        = pd.DatetimeIndex(df.Data).weekday\n",
        "df['dayofyear']      = pd.DatetimeIndex(df.Data).dayofyear\n",
        "df['valor_atual']    = df['Último'].shift(1).copy()\n",
        "df['valor_anterior'] = df['Último'].shift(2).copy()\n",
        "df['diff_valor']     = (df['valor_atual']-df['valor_anterior'])\n",
        "df['media_mov']      = df['Último'].rolling(3).mean().round(3)\n"
      ],
      "execution_count": 26,
      "outputs": []
    },
    {
      "cell_type": "code",
      "metadata": {
        "id": "b0THH3CcfrTc"
      },
      "source": [
        "df=df.dropna().copy()"
      ],
      "execution_count": 27,
      "outputs": []
    },
    {
      "cell_type": "code",
      "metadata": {
        "colab": {
          "base_uri": "https://localhost:8080/",
          "height": 771
        },
        "id": "l6pytQi6j3PA",
        "outputId": "e0c3a649-ed93-457b-ca2d-a16b8f565556"
      },
      "source": [
        "fig, ax = plt.subplots()\n",
        "\n",
        "plt.figure(figsize=(12,7))\n",
        "sns.heatmap(df.corr(),\n",
        "            annot = True,\n",
        "            fmt = '.2f',\n",
        "            cmap='Greens')\n",
        "plt.setp(ax.get_xticklabels(), rotation=45, ha=\"right\", rotation_mode=\"anchor\")\n",
        "# plt.show()"
      ],
      "execution_count": 28,
      "outputs": [
        {
          "output_type": "execute_result",
          "data": {
            "text/plain": [
              "[None, None, None, None, None, None, None, None, None, None, None, None]"
            ]
          },
          "metadata": {},
          "execution_count": 28
        },
        {
          "output_type": "display_data",
          "data": {
            "image/png": "[encoded data removed]",
            "text/plain": [
              "<Figure size 432x288 with 1 Axes>"
            ]
          },
          "metadata": {
            "needs_background": "light"
          }
        },
        {
          "output_type": "display_data",
          "data": {
            "image/png": "[encoded data removed]",
            "text/plain": [
              "<Figure size 864x504 with 2 Axes>"
            ]
          },
          "metadata": {
            "needs_background": "light"
          }
        }
      ]
    },
    {
      "cell_type": "code",
      "metadata": {
        "id": "UqS4fdG3ggDk"
      },
      "source": [
        "\n",
        "\n",
        "target   = 'Último'\n",
        "\n",
        "cat_vars = (df.select_dtypes(include='object').columns.to_list())\n",
        "num_vars = [col for col in df.columns if col not in cat_vars + ['Data','Último']]\n",
        "\n",
        "features = num_vars"
      ],
      "execution_count": 30,
      "outputs": []
    },
    {
      "cell_type": "code",
      "metadata": {
        "id": "lV_43AR2hlpI"
      },
      "source": [
        "y = df[target].copy()\n",
        "X = df.filter(features).copy()"
      ],
      "execution_count": 31,
      "outputs": []
    },
    {
      "cell_type": "code",
      "metadata": {
        "id": "I6NJ_KZogTx7"
      },
      "source": [
        "from sklearn.model_selection import train_test_split\n",
        "\n",
        "X_train, X_test, y_train, y_test = train_test_split(X, y, test_size=0.2, random_state=42)\n"
      ],
      "execution_count": 32,
      "outputs": []
    },
    {
      "cell_type": "code",
      "metadata": {
        "colab": {
          "base_uri": "https://localhost:8080/"
        },
        "id": "AnjQaEuAp_oZ",
        "outputId": "900d39c3-65bd-4875-9397-1af44be74215"
      },
      "source": [
        "X_train.shape, X_test.shape, y_train.shape, y_test.shape"
      ],
      "execution_count": 33,
      "outputs": [
        {
          "output_type": "execute_result",
          "data": {
            "text/plain": [
              "((3236, 15), (809, 15), (3236,), (809,))"
            ]
          },
          "metadata": {},
          "execution_count": 33
        }
      ]
    },
    {
      "cell_type": "code",
      "metadata": {
        "id": "KeDLOlhUiXIA"
      },
      "source": [
        "def log_results(modelo_objeto, nome_modelo, X_train, X_test, y_train, y_test):\n",
        "    \n",
        "    def adjusted_r2 (yt,ypt,Xt):                                        # Função r2 ajustado\n",
        "      r2          = r2_score(yt,ypt)\n",
        "      N           = len(yt)\n",
        "      p           = Xt.shape[1]\n",
        "      r2_ajustado = (1-((1-r2)*(N-1))/(N-p-1))\n",
        "      return r2_ajustado\n",
        "   \n",
        "    def mape(yt, ypt):                                                   # Função MAPE\n",
        "       mape = np.mean(np.abs((yt-ypt)/yt))\n",
        "       return (mape)\n",
        "\n",
        "# avaliando o Treino \n",
        "    y_pred_train      = modelo_objeto.predict(X_train)    \n",
        "    r2_train          = round(r2_score(y_train, y_pred_train),3)                        # r2    \n",
        "    r2_ajustado_train = round(adjusted_r2 (y_train,y_pred_train, X_train),3)            # r2 ajustado       \n",
        "    mse_train         = round(mean_squared_error (y_train,y_pred_train),2)              # mse\n",
        "    rmse_train        = round(np.sqrt(mse_train),2)                                     # RMSE   \n",
        "    rmsle_train       = round(np.sqrt(mean_squared_log_error(y_train, y_pred_train)),3) # RMSLE    \n",
        "    mae_train         = round(mean_absolute_error(y_train, y_pred_train),2)             # MAE   \n",
        "    medae_train       = round(median_absolute_error(y_train, y_pred_train),2)           # MedAE  \n",
        "    mape_train        = round(mape(y_train, y_pred_train),3)                            # MAPE\n",
        "\n",
        "                    \n",
        "# Avaliando teste\n",
        "    y_pred_test = modelo_objeto.predict(X_test)   \n",
        "    r2          = round(r2_score(y_test, y_pred_test),3)                                # r2    \n",
        "    r2_ajustado = round(adjusted_r2 (y_test,y_pred_test, X_test),3)                     # r2 ajustado   \n",
        "    mse         = round(mean_squared_error (y_test,y_pred_test),2)                      # mse\n",
        "    rmse        = round(np.sqrt(mse),2)                                                 # RMSE    \n",
        "    rmsle       = round(np.sqrt(mean_squared_log_error(y_test, y_pred_test)),3)         # RMSLE    \n",
        "    mae         = round(mean_absolute_error(y_test, y_pred_test),2)                     # MAE\n",
        "    medae       = round(median_absolute_error(y_test, y_pred_test),2)                   # MedAE    \n",
        "    mape        = round(mape(y_test, y_pred_test),3)                                    # MAPE\n",
        "\n",
        " \n",
        "    results=[]\n",
        "    results.append([nome_modelo,'treino',r2_train,r2_ajustado_train,mse_train,rmse_train,rmsle_train,mae_train,medae_train,mape_train])\n",
        "    results.append([nome_modelo,'teste',r2,r2_ajustado,mse,rmse,rmsle,mae,medae,mape])\n",
        "    df_results = pd.DataFrame(results, columns=['nome_modelo','modo','r2','r2_ajustado','mse','rmse','rmsle','mae','medae','mape'])\n",
        "    return df_results"
      ],
      "execution_count": 34,
      "outputs": []
    },
    {
      "cell_type": "code",
      "metadata": {
        "colab": {
          "base_uri": "https://localhost:8080/",
          "height": 111
        },
        "id": "D3vqcwXFiWyr",
        "outputId": "93a83b7b-a6a2-47ac-a27b-57bb80d4fe66"
      },
      "source": [
        "from sklearn.linear_model import LinearRegression\n",
        "\n",
        "lr_model = Pipeline(steps=[\n",
        "        ('standard_scaler',SklearnTransformerWrapper(transformer=StandardScaler(),variables=num_vars)),\n",
        "        ('linear_reg', LinearRegression())\n",
        "])\n",
        "lr_model.fit(X_train, y_train)\n",
        "lr_results = log_results(lr_model, 'Regressão Linear', X_train, X_test, y_train, y_test)\n",
        "lr_results"
      ],
      "execution_count": 35,
      "outputs": [
        {
          "output_type": "execute_result",
          "data": {
            "text/html": [
              "<div>\n",
              "<style scoped>\n",
              "    .dataframe tbody tr th:only-of-type {\n",
              "        vertical-align: middle;\n",
              "    }\n",
              "\n",
              "    .dataframe tbody tr th {\n",
              "        vertical-align: top;\n",
              "    }\n",
              "\n",
              "    .dataframe thead th {\n",
              "        text-align: right;\n",
              "    }\n",
              "</style>\n",
              "<table border=\"1\" class=\"dataframe\">\n",
              "  <thead>\n",
              "    <tr style=\"text-align: right;\">\n",
              "      <th></th>\n",
              "      <th>nome_modelo</th>\n",
              "      <th>modo</th>\n",
              "      <th>r2</th>\n",
              "      <th>r2_ajustado</th>\n",
              "      <th>mse</th>\n",
              "      <th>rmse</th>\n",
              "      <th>rmsle</th>\n",
              "      <th>mae</th>\n",
              "      <th>medae</th>\n",
              "      <th>mape</th>\n",
              "    </tr>\n",
              "  </thead>\n",
              "  <tbody>\n",
              "    <tr>\n",
              "      <th>0</th>\n",
              "      <td>Regressão Linear</td>\n",
              "      <td>treino</td>\n",
              "      <td>1.0</td>\n",
              "      <td>1.0</td>\n",
              "      <td>0.0</td>\n",
              "      <td>0.0</td>\n",
              "      <td>0.0</td>\n",
              "      <td>0.0</td>\n",
              "      <td>0.0</td>\n",
              "      <td>0.0</td>\n",
              "    </tr>\n",
              "    <tr>\n",
              "      <th>1</th>\n",
              "      <td>Regressão Linear</td>\n",
              "      <td>teste</td>\n",
              "      <td>1.0</td>\n",
              "      <td>1.0</td>\n",
              "      <td>0.0</td>\n",
              "      <td>0.0</td>\n",
              "      <td>0.0</td>\n",
              "      <td>0.0</td>\n",
              "      <td>0.0</td>\n",
              "      <td>0.0</td>\n",
              "    </tr>\n",
              "  </tbody>\n",
              "</table>\n",
              "</div>"
            ],
            "text/plain": [
              "        nome_modelo    modo   r2  r2_ajustado  ...  rmsle  mae  medae  mape\n",
              "0  Regressão Linear  treino  1.0          1.0  ...    0.0  0.0    0.0   0.0\n",
              "1  Regressão Linear   teste  1.0          1.0  ...    0.0  0.0    0.0   0.0\n",
              "\n",
              "[2 rows x 10 columns]"
            ]
          },
          "metadata": {},
          "execution_count": 35
        }
      ]
    },
    {
      "cell_type": "code",
      "metadata": {
        "colab": {
          "base_uri": "https://localhost:8080/",
          "height": 111
        },
        "id": "aGUif4Fui5yI",
        "outputId": "af25b3a0-5d55-4d3c-c808-49db946ab19f"
      },
      "source": [
        "from sklearn.linear_model import Ridge\n",
        "# criando o Pipeline do modelo Ridge\n",
        "ridge_model = Pipeline(steps=[\n",
        "    ('standart_scaler', SklearnTransformerWrapper(transformer=StandardScaler(),variables=num_vars)),\n",
        "    ('ridge_reg',Ridge())\n",
        "])\n",
        "#Treinando o modelo\n",
        "ridge_model.fit(X_train,y_train)\n",
        "# aplicando a função\n",
        "ridge_results = log_results(ridge_model, 'Ridge', X_train, X_test, y_train, y_test)\n",
        "ridge_results"
      ],
      "execution_count": 36,
      "outputs": [
        {
          "output_type": "execute_result",
          "data": {
            "text/html": [
              "<div>\n",
              "<style scoped>\n",
              "    .dataframe tbody tr th:only-of-type {\n",
              "        vertical-align: middle;\n",
              "    }\n",
              "\n",
              "    .dataframe tbody tr th {\n",
              "        vertical-align: top;\n",
              "    }\n",
              "\n",
              "    .dataframe thead th {\n",
              "        text-align: right;\n",
              "    }\n",
              "</style>\n",
              "<table border=\"1\" class=\"dataframe\">\n",
              "  <thead>\n",
              "    <tr style=\"text-align: right;\">\n",
              "      <th></th>\n",
              "      <th>nome_modelo</th>\n",
              "      <th>modo</th>\n",
              "      <th>r2</th>\n",
              "      <th>r2_ajustado</th>\n",
              "      <th>mse</th>\n",
              "      <th>rmse</th>\n",
              "      <th>rmsle</th>\n",
              "      <th>mae</th>\n",
              "      <th>medae</th>\n",
              "      <th>mape</th>\n",
              "    </tr>\n",
              "  </thead>\n",
              "  <tbody>\n",
              "    <tr>\n",
              "      <th>0</th>\n",
              "      <td>Ridge</td>\n",
              "      <td>treino</td>\n",
              "      <td>1.0</td>\n",
              "      <td>1.0</td>\n",
              "      <td>0.0</td>\n",
              "      <td>0.0</td>\n",
              "      <td>0.007</td>\n",
              "      <td>0.03</td>\n",
              "      <td>0.02</td>\n",
              "      <td>0.006</td>\n",
              "    </tr>\n",
              "    <tr>\n",
              "      <th>1</th>\n",
              "      <td>Ridge</td>\n",
              "      <td>teste</td>\n",
              "      <td>1.0</td>\n",
              "      <td>1.0</td>\n",
              "      <td>0.0</td>\n",
              "      <td>0.0</td>\n",
              "      <td>0.006</td>\n",
              "      <td>0.03</td>\n",
              "      <td>0.02</td>\n",
              "      <td>0.006</td>\n",
              "    </tr>\n",
              "  </tbody>\n",
              "</table>\n",
              "</div>"
            ],
            "text/plain": [
              "  nome_modelo    modo   r2  r2_ajustado  mse  rmse  rmsle   mae  medae   mape\n",
              "0       Ridge  treino  1.0          1.0  0.0   0.0  0.007  0.03   0.02  0.006\n",
              "1       Ridge   teste  1.0          1.0  0.0   0.0  0.006  0.03   0.02  0.006"
            ]
          },
          "metadata": {},
          "execution_count": 36
        }
      ]
    },
    {
      "cell_type": "code",
      "metadata": {
        "colab": {
          "base_uri": "https://localhost:8080/",
          "height": 129
        },
        "id": "nqu3QOYvi5rC",
        "outputId": "f3515e2e-d4e2-4cad-ddd2-11f036e42981"
      },
      "source": [
        "from xgboost import XGBRegressor\n",
        "#Criando pipeline do modelo\n",
        "xgb_model = Pipeline (steps=[\n",
        "    ('xgb', XGBRegressor(random_state=30))\n",
        "])\n",
        "#treinando o modelo\n",
        "xgb_model.fit(X_train,y_train)\n",
        "xgb_results = log_results(xgb_model,'XGBoost', X_train, X_test, y_train, y_test)\n",
        "xgb_results"
      ],
      "execution_count": 37,
      "outputs": [
        {
          "output_type": "stream",
          "name": "stdout",
          "text": [
            "[01:07:45] WARNING: /workspace/src/objective/regression_obj.cu:152: reg:linear is now deprecated in favor of reg:squarederror.\n"
          ]
        },
        {
          "output_type": "execute_result",
          "data": {
            "text/html": [
              "<div>\n",
              "<style scoped>\n",
              "    .dataframe tbody tr th:only-of-type {\n",
              "        vertical-align: middle;\n",
              "    }\n",
              "\n",
              "    .dataframe tbody tr th {\n",
              "        vertical-align: top;\n",
              "    }\n",
              "\n",
              "    .dataframe thead th {\n",
              "        text-align: right;\n",
              "    }\n",
              "</style>\n",
              "<table border=\"1\" class=\"dataframe\">\n",
              "  <thead>\n",
              "    <tr style=\"text-align: right;\">\n",
              "      <th></th>\n",
              "      <th>nome_modelo</th>\n",
              "      <th>modo</th>\n",
              "      <th>r2</th>\n",
              "      <th>r2_ajustado</th>\n",
              "      <th>mse</th>\n",
              "      <th>rmse</th>\n",
              "      <th>rmsle</th>\n",
              "      <th>mae</th>\n",
              "      <th>medae</th>\n",
              "      <th>mape</th>\n",
              "    </tr>\n",
              "  </thead>\n",
              "  <tbody>\n",
              "    <tr>\n",
              "      <th>0</th>\n",
              "      <td>XGBoost</td>\n",
              "      <td>treino</td>\n",
              "      <td>1.0</td>\n",
              "      <td>1.0</td>\n",
              "      <td>0.0</td>\n",
              "      <td>0.0</td>\n",
              "      <td>0.006</td>\n",
              "      <td>0.03</td>\n",
              "      <td>0.02</td>\n",
              "      <td>0.006</td>\n",
              "    </tr>\n",
              "    <tr>\n",
              "      <th>1</th>\n",
              "      <td>XGBoost</td>\n",
              "      <td>teste</td>\n",
              "      <td>1.0</td>\n",
              "      <td>1.0</td>\n",
              "      <td>0.0</td>\n",
              "      <td>0.0</td>\n",
              "      <td>0.008</td>\n",
              "      <td>0.04</td>\n",
              "      <td>0.03</td>\n",
              "      <td>0.008</td>\n",
              "    </tr>\n",
              "  </tbody>\n",
              "</table>\n",
              "</div>"
            ],
            "text/plain": [
              "  nome_modelo    modo   r2  r2_ajustado  mse  rmse  rmsle   mae  medae   mape\n",
              "0     XGBoost  treino  1.0          1.0  0.0   0.0  0.006  0.03   0.02  0.006\n",
              "1     XGBoost   teste  1.0          1.0  0.0   0.0  0.008  0.04   0.03  0.008"
            ]
          },
          "metadata": {},
          "execution_count": 37
        }
      ]
    },
    {
      "cell_type": "code",
      "metadata": {
        "colab": {
          "base_uri": "https://localhost:8080/",
          "height": 111
        },
        "id": "TAo8Cljvk3kc",
        "outputId": "e8c52618-771a-4e49-f533-609ef8c0afe2"
      },
      "source": [
        "from sklearn.tree import  DecisionTreeRegressor\n",
        "#criando o pipeline do modelo árvore de decisão\n",
        "tree_model = Pipeline(steps=[\n",
        "    ('decision_tree', DecisionTreeRegressor(random_state=30, max_depth=3))\n",
        "])\n",
        "# treinando o modelo\n",
        "tree_model.fit(X_train, y_train)\n",
        "tree_results = log_results(tree_model, 'Decision Tree', X_train, X_test, y_train, y_test)\n",
        "tree_results"
      ],
      "execution_count": 38,
      "outputs": [
        {
          "output_type": "execute_result",
          "data": {
            "text/html": [
              "<div>\n",
              "<style scoped>\n",
              "    .dataframe tbody tr th:only-of-type {\n",
              "        vertical-align: middle;\n",
              "    }\n",
              "\n",
              "    .dataframe tbody tr th {\n",
              "        vertical-align: top;\n",
              "    }\n",
              "\n",
              "    .dataframe thead th {\n",
              "        text-align: right;\n",
              "    }\n",
              "</style>\n",
              "<table border=\"1\" class=\"dataframe\">\n",
              "  <thead>\n",
              "    <tr style=\"text-align: right;\">\n",
              "      <th></th>\n",
              "      <th>nome_modelo</th>\n",
              "      <th>modo</th>\n",
              "      <th>r2</th>\n",
              "      <th>r2_ajustado</th>\n",
              "      <th>mse</th>\n",
              "      <th>rmse</th>\n",
              "      <th>rmsle</th>\n",
              "      <th>mae</th>\n",
              "      <th>medae</th>\n",
              "      <th>mape</th>\n",
              "    </tr>\n",
              "  </thead>\n",
              "  <tbody>\n",
              "    <tr>\n",
              "      <th>0</th>\n",
              "      <td>Decision Tree</td>\n",
              "      <td>treino</td>\n",
              "      <td>0.983</td>\n",
              "      <td>0.983</td>\n",
              "      <td>0.16</td>\n",
              "      <td>0.40</td>\n",
              "      <td>0.084</td>\n",
              "      <td>0.34</td>\n",
              "      <td>0.32</td>\n",
              "      <td>0.09</td>\n",
              "    </tr>\n",
              "    <tr>\n",
              "      <th>1</th>\n",
              "      <td>Decision Tree</td>\n",
              "      <td>teste</td>\n",
              "      <td>0.983</td>\n",
              "      <td>0.983</td>\n",
              "      <td>0.17</td>\n",
              "      <td>0.41</td>\n",
              "      <td>0.091</td>\n",
              "      <td>0.34</td>\n",
              "      <td>0.32</td>\n",
              "      <td>0.10</td>\n",
              "    </tr>\n",
              "  </tbody>\n",
              "</table>\n",
              "</div>"
            ],
            "text/plain": [
              "     nome_modelo    modo     r2  r2_ajustado  ...  rmsle   mae  medae  mape\n",
              "0  Decision Tree  treino  0.983        0.983  ...  0.084  0.34   0.32  0.09\n",
              "1  Decision Tree   teste  0.983        0.983  ...  0.091  0.34   0.32  0.10\n",
              "\n",
              "[2 rows x 10 columns]"
            ]
          },
          "metadata": {},
          "execution_count": 38
        }
      ]
    },
    {
      "cell_type": "code",
      "metadata": {
        "colab": {
          "base_uri": "https://localhost:8080/",
          "height": 111
        },
        "id": "J4884DVJk3h3",
        "outputId": "57a74c24-7a69-4e9f-8ae0-7be674d805ac"
      },
      "source": [
        "from sklearn.ensemble import RandomForestRegressor\n",
        "rf_model = Pipeline(steps=[                          \n",
        "    ('random_forrest', RandomForestRegressor(random_state=30, max_depth=3))\n",
        "])\n",
        "#treinando o modelo\n",
        "rf_model.fit(X_train, y_train)\n",
        "rf_results= log_results(rf_model, 'Random Forest', X_train, X_test, y_train, y_test)\n",
        "rf_results"
      ],
      "execution_count": 39,
      "outputs": [
        {
          "output_type": "execute_result",
          "data": {
            "text/html": [
              "<div>\n",
              "<style scoped>\n",
              "    .dataframe tbody tr th:only-of-type {\n",
              "        vertical-align: middle;\n",
              "    }\n",
              "\n",
              "    .dataframe tbody tr th {\n",
              "        vertical-align: top;\n",
              "    }\n",
              "\n",
              "    .dataframe thead th {\n",
              "        text-align: right;\n",
              "    }\n",
              "</style>\n",
              "<table border=\"1\" class=\"dataframe\">\n",
              "  <thead>\n",
              "    <tr style=\"text-align: right;\">\n",
              "      <th></th>\n",
              "      <th>nome_modelo</th>\n",
              "      <th>modo</th>\n",
              "      <th>r2</th>\n",
              "      <th>r2_ajustado</th>\n",
              "      <th>mse</th>\n",
              "      <th>rmse</th>\n",
              "      <th>rmsle</th>\n",
              "      <th>mae</th>\n",
              "      <th>medae</th>\n",
              "      <th>mape</th>\n",
              "    </tr>\n",
              "  </thead>\n",
              "  <tbody>\n",
              "    <tr>\n",
              "      <th>0</th>\n",
              "      <td>Random Forest</td>\n",
              "      <td>treino</td>\n",
              "      <td>0.986</td>\n",
              "      <td>0.986</td>\n",
              "      <td>0.14</td>\n",
              "      <td>0.37</td>\n",
              "      <td>0.081</td>\n",
              "      <td>0.31</td>\n",
              "      <td>0.30</td>\n",
              "      <td>0.086</td>\n",
              "    </tr>\n",
              "    <tr>\n",
              "      <th>1</th>\n",
              "      <td>Random Forest</td>\n",
              "      <td>teste</td>\n",
              "      <td>0.986</td>\n",
              "      <td>0.985</td>\n",
              "      <td>0.14</td>\n",
              "      <td>0.37</td>\n",
              "      <td>0.087</td>\n",
              "      <td>0.31</td>\n",
              "      <td>0.29</td>\n",
              "      <td>0.094</td>\n",
              "    </tr>\n",
              "  </tbody>\n",
              "</table>\n",
              "</div>"
            ],
            "text/plain": [
              "     nome_modelo    modo     r2  r2_ajustado  ...  rmsle   mae  medae   mape\n",
              "0  Random Forest  treino  0.986        0.986  ...  0.081  0.31   0.30  0.086\n",
              "1  Random Forest   teste  0.986        0.985  ...  0.087  0.31   0.29  0.094\n",
              "\n",
              "[2 rows x 10 columns]"
            ]
          },
          "metadata": {},
          "execution_count": 39
        }
      ]
    },
    {
      "cell_type": "code",
      "metadata": {
        "colab": {
          "base_uri": "https://localhost:8080/",
          "height": 111
        },
        "id": "uxJ_vKc2k3ef",
        "outputId": "c8b48dd2-4985-488c-a5e7-7f5d2cdde290"
      },
      "source": [
        "from lightgbm import LGBMRegressor\n",
        "#criando pipeline do modelo LGBM\n",
        "lgbm_model = Pipeline (steps=[\n",
        "    ('lgbm', LGBMRegressor(random_state=30))\n",
        "])\n",
        "#treinando o modelo\n",
        "lgbm_model.fit(X_train, y_train)\n",
        "lgbm_results = log_results(lgbm_model, 'LGMB Regression', X_train, X_test, y_train, y_test)\n",
        "lgbm_results"
      ],
      "execution_count": 40,
      "outputs": [
        {
          "output_type": "execute_result",
          "data": {
            "text/html": [
              "<div>\n",
              "<style scoped>\n",
              "    .dataframe tbody tr th:only-of-type {\n",
              "        vertical-align: middle;\n",
              "    }\n",
              "\n",
              "    .dataframe tbody tr th {\n",
              "        vertical-align: top;\n",
              "    }\n",
              "\n",
              "    .dataframe thead th {\n",
              "        text-align: right;\n",
              "    }\n",
              "</style>\n",
              "<table border=\"1\" class=\"dataframe\">\n",
              "  <thead>\n",
              "    <tr style=\"text-align: right;\">\n",
              "      <th></th>\n",
              "      <th>nome_modelo</th>\n",
              "      <th>modo</th>\n",
              "      <th>r2</th>\n",
              "      <th>r2_ajustado</th>\n",
              "      <th>mse</th>\n",
              "      <th>rmse</th>\n",
              "      <th>rmsle</th>\n",
              "      <th>mae</th>\n",
              "      <th>medae</th>\n",
              "      <th>mape</th>\n",
              "    </tr>\n",
              "  </thead>\n",
              "  <tbody>\n",
              "    <tr>\n",
              "      <th>0</th>\n",
              "      <td>LGMB Regression</td>\n",
              "      <td>treino</td>\n",
              "      <td>1.0</td>\n",
              "      <td>1.0</td>\n",
              "      <td>0.0</td>\n",
              "      <td>0.0</td>\n",
              "      <td>0.004</td>\n",
              "      <td>0.02</td>\n",
              "      <td>0.01</td>\n",
              "      <td>0.004</td>\n",
              "    </tr>\n",
              "    <tr>\n",
              "      <th>1</th>\n",
              "      <td>LGMB Regression</td>\n",
              "      <td>teste</td>\n",
              "      <td>1.0</td>\n",
              "      <td>1.0</td>\n",
              "      <td>0.0</td>\n",
              "      <td>0.0</td>\n",
              "      <td>0.007</td>\n",
              "      <td>0.03</td>\n",
              "      <td>0.02</td>\n",
              "      <td>0.007</td>\n",
              "    </tr>\n",
              "  </tbody>\n",
              "</table>\n",
              "</div>"
            ],
            "text/plain": [
              "       nome_modelo    modo   r2  r2_ajustado  ...  rmsle   mae  medae   mape\n",
              "0  LGMB Regression  treino  1.0          1.0  ...  0.004  0.02   0.01  0.004\n",
              "1  LGMB Regression   teste  1.0          1.0  ...  0.007  0.03   0.02  0.007\n",
              "\n",
              "[2 rows x 10 columns]"
            ]
          },
          "metadata": {},
          "execution_count": 40
        }
      ]
    },
    {
      "cell_type": "code",
      "metadata": {
        "id": "5xMEL1zAk3ZK"
      },
      "source": [
        "model_results = pd.concat([lr_results,ridge_results,tree_results, rf_results, lgbm_results,xgb_results])"
      ],
      "execution_count": 41,
      "outputs": []
    },
    {
      "cell_type": "code",
      "metadata": {
        "colab": {
          "base_uri": "https://localhost:8080/",
          "height": 420
        },
        "id": "HQ8MbOsti5g2",
        "outputId": "9ac0feb2-2716-4662-c395-556eb53f0260"
      },
      "source": [
        "model_results.sort_values(by=['modo','r2_ajustado'], ascending=False)"
      ],
      "execution_count": 42,
      "outputs": [
        {
          "output_type": "execute_result",
          "data": {
            "text/html": [
              "<div>\n",
              "<style scoped>\n",
              "    .dataframe tbody tr th:only-of-type {\n",
              "        vertical-align: middle;\n",
              "    }\n",
              "\n",
              "    .dataframe tbody tr th {\n",
              "        vertical-align: top;\n",
              "    }\n",
              "\n",
              "    .dataframe thead th {\n",
              "        text-align: right;\n",
              "    }\n",
              "</style>\n",
              "<table border=\"1\" class=\"dataframe\">\n",
              "  <thead>\n",
              "    <tr style=\"text-align: right;\">\n",
              "      <th></th>\n",
              "      <th>nome_modelo</th>\n",
              "      <th>modo</th>\n",
              "      <th>r2</th>\n",
              "      <th>r2_ajustado</th>\n",
              "      <th>mse</th>\n",
              "      <th>rmse</th>\n",
              "      <th>rmsle</th>\n",
              "      <th>mae</th>\n",
              "      <th>medae</th>\n",
              "      <th>mape</th>\n",
              "    </tr>\n",
              "  </thead>\n",
              "  <tbody>\n",
              "    <tr>\n",
              "      <th>0</th>\n",
              "      <td>Regressão Linear</td>\n",
              "      <td>treino</td>\n",
              "      <td>1.000</td>\n",
              "      <td>1.000</td>\n",
              "      <td>0.00</td>\n",
              "      <td>0.00</td>\n",
              "      <td>0.000</td>\n",
              "      <td>0.00</td>\n",
              "      <td>0.00</td>\n",
              "      <td>0.000</td>\n",
              "    </tr>\n",
              "    <tr>\n",
              "      <th>0</th>\n",
              "      <td>Ridge</td>\n",
              "      <td>treino</td>\n",
              "      <td>1.000</td>\n",
              "      <td>1.000</td>\n",
              "      <td>0.00</td>\n",
              "      <td>0.00</td>\n",
              "      <td>0.007</td>\n",
              "      <td>0.03</td>\n",
              "      <td>0.02</td>\n",
              "      <td>0.006</td>\n",
              "    </tr>\n",
              "    <tr>\n",
              "      <th>0</th>\n",
              "      <td>LGMB Regression</td>\n",
              "      <td>treino</td>\n",
              "      <td>1.000</td>\n",
              "      <td>1.000</td>\n",
              "      <td>0.00</td>\n",
              "      <td>0.00</td>\n",
              "      <td>0.004</td>\n",
              "      <td>0.02</td>\n",
              "      <td>0.01</td>\n",
              "      <td>0.004</td>\n",
              "    </tr>\n",
              "    <tr>\n",
              "      <th>0</th>\n",
              "      <td>XGBoost</td>\n",
              "      <td>treino</td>\n",
              "      <td>1.000</td>\n",
              "      <td>1.000</td>\n",
              "      <td>0.00</td>\n",
              "      <td>0.00</td>\n",
              "      <td>0.006</td>\n",
              "      <td>0.03</td>\n",
              "      <td>0.02</td>\n",
              "      <td>0.006</td>\n",
              "    </tr>\n",
              "    <tr>\n",
              "      <th>0</th>\n",
              "      <td>Random Forest</td>\n",
              "      <td>treino</td>\n",
              "      <td>0.986</td>\n",
              "      <td>0.986</td>\n",
              "      <td>0.14</td>\n",
              "      <td>0.37</td>\n",
              "      <td>0.081</td>\n",
              "      <td>0.31</td>\n",
              "      <td>0.30</td>\n",
              "      <td>0.086</td>\n",
              "    </tr>\n",
              "    <tr>\n",
              "      <th>0</th>\n",
              "      <td>Decision Tree</td>\n",
              "      <td>treino</td>\n",
              "      <td>0.983</td>\n",
              "      <td>0.983</td>\n",
              "      <td>0.16</td>\n",
              "      <td>0.40</td>\n",
              "      <td>0.084</td>\n",
              "      <td>0.34</td>\n",
              "      <td>0.32</td>\n",
              "      <td>0.090</td>\n",
              "    </tr>\n",
              "    <tr>\n",
              "      <th>1</th>\n",
              "      <td>Regressão Linear</td>\n",
              "      <td>teste</td>\n",
              "      <td>1.000</td>\n",
              "      <td>1.000</td>\n",
              "      <td>0.00</td>\n",
              "      <td>0.00</td>\n",
              "      <td>0.000</td>\n",
              "      <td>0.00</td>\n",
              "      <td>0.00</td>\n",
              "      <td>0.000</td>\n",
              "    </tr>\n",
              "    <tr>\n",
              "      <th>1</th>\n",
              "      <td>Ridge</td>\n",
              "      <td>teste</td>\n",
              "      <td>1.000</td>\n",
              "      <td>1.000</td>\n",
              "      <td>0.00</td>\n",
              "      <td>0.00</td>\n",
              "      <td>0.006</td>\n",
              "      <td>0.03</td>\n",
              "      <td>0.02</td>\n",
              "      <td>0.006</td>\n",
              "    </tr>\n",
              "    <tr>\n",
              "      <th>1</th>\n",
              "      <td>LGMB Regression</td>\n",
              "      <td>teste</td>\n",
              "      <td>1.000</td>\n",
              "      <td>1.000</td>\n",
              "      <td>0.00</td>\n",
              "      <td>0.00</td>\n",
              "      <td>0.007</td>\n",
              "      <td>0.03</td>\n",
              "      <td>0.02</td>\n",
              "      <td>0.007</td>\n",
              "    </tr>\n",
              "    <tr>\n",
              "      <th>1</th>\n",
              "      <td>XGBoost</td>\n",
              "      <td>teste</td>\n",
              "      <td>1.000</td>\n",
              "      <td>1.000</td>\n",
              "      <td>0.00</td>\n",
              "      <td>0.00</td>\n",
              "      <td>0.008</td>\n",
              "      <td>0.04</td>\n",
              "      <td>0.03</td>\n",
              "      <td>0.008</td>\n",
              "    </tr>\n",
              "    <tr>\n",
              "      <th>1</th>\n",
              "      <td>Random Forest</td>\n",
              "      <td>teste</td>\n",
              "      <td>0.986</td>\n",
              "      <td>0.985</td>\n",
              "      <td>0.14</td>\n",
              "      <td>0.37</td>\n",
              "      <td>0.087</td>\n",
              "      <td>0.31</td>\n",
              "      <td>0.29</td>\n",
              "      <td>0.094</td>\n",
              "    </tr>\n",
              "    <tr>\n",
              "      <th>1</th>\n",
              "      <td>Decision Tree</td>\n",
              "      <td>teste</td>\n",
              "      <td>0.983</td>\n",
              "      <td>0.983</td>\n",
              "      <td>0.17</td>\n",
              "      <td>0.41</td>\n",
              "      <td>0.091</td>\n",
              "      <td>0.34</td>\n",
              "      <td>0.32</td>\n",
              "      <td>0.100</td>\n",
              "    </tr>\n",
              "  </tbody>\n",
              "</table>\n",
              "</div>"
            ],
            "text/plain": [
              "        nome_modelo    modo     r2  r2_ajustado  ...  rmsle   mae  medae   mape\n",
              "0  Regressão Linear  treino  1.000        1.000  ...  0.000  0.00   0.00  0.000\n",
              "0             Ridge  treino  1.000        1.000  ...  0.007  0.03   0.02  0.006\n",
              "0   LGMB Regression  treino  1.000        1.000  ...  0.004  0.02   0.01  0.004\n",
              "0           XGBoost  treino  1.000        1.000  ...  0.006  0.03   0.02  0.006\n",
              "0     Random Forest  treino  0.986        0.986  ...  0.081  0.31   0.30  0.086\n",
              "0     Decision Tree  treino  0.983        0.983  ...  0.084  0.34   0.32  0.090\n",
              "1  Regressão Linear   teste  1.000        1.000  ...  0.000  0.00   0.00  0.000\n",
              "1             Ridge   teste  1.000        1.000  ...  0.006  0.03   0.02  0.006\n",
              "1   LGMB Regression   teste  1.000        1.000  ...  0.007  0.03   0.02  0.007\n",
              "1           XGBoost   teste  1.000        1.000  ...  0.008  0.04   0.03  0.008\n",
              "1     Random Forest   teste  0.986        0.985  ...  0.087  0.31   0.29  0.094\n",
              "1     Decision Tree   teste  0.983        0.983  ...  0.091  0.34   0.32  0.100\n",
              "\n",
              "[12 rows x 10 columns]"
            ]
          },
          "metadata": {},
          "execution_count": 42
        }
      ]
    },
    {
      "cell_type": "markdown",
      "metadata": {
        "id": "aCLAdIZrg8RA"
      },
      "source": [
        "# teste 2\n"
      ]
    },
    {
      "cell_type": "code",
      "metadata": {
        "id": "C-CX85_Tg79l"
      },
      "source": [
        ""
      ],
      "execution_count": 42,
      "outputs": []
    },
    {
      "cell_type": "code",
      "metadata": {
        "id": "X6MzopJ_6oYR"
      },
      "source": [
        "df_train = (\n",
        "    df_aux\n",
        "    .query('Data >= \"2005-01-01\" & Data <= \"2019-12-31\"')\n",
        "    .sort_values(by='Data', ascending = True)\n",
        "    .reset_index())\n"
      ],
      "execution_count": 43,
      "outputs": []
    },
    {
      "cell_type": "code",
      "metadata": {
        "colab": {
          "base_uri": "https://localhost:8080/"
        },
        "id": "CktgSQ-If5u8",
        "outputId": "10add3be-2747-452f-ca6c-631058b30ff9"
      },
      "source": [
        "df_train.shape"
      ],
      "execution_count": 44,
      "outputs": [
        {
          "output_type": "execute_result",
          "data": {
            "text/plain": [
              "(3707, 9)"
            ]
          },
          "metadata": {},
          "execution_count": 44
        }
      ]
    },
    {
      "cell_type": "code",
      "metadata": {
        "colab": {
          "base_uri": "https://localhost:8080/",
          "height": 296
        },
        "id": "14d0WauqagcE",
        "outputId": "2743ac78-22f2-4bc8-ba9b-1ec2fb7e58fd"
      },
      "source": [
        "df_train.describe()"
      ],
      "execution_count": 45,
      "outputs": [
        {
          "output_type": "execute_result",
          "data": {
            "text/html": [
              "<div>\n",
              "<style scoped>\n",
              "    .dataframe tbody tr th:only-of-type {\n",
              "        vertical-align: middle;\n",
              "    }\n",
              "\n",
              "    .dataframe tbody tr th {\n",
              "        vertical-align: top;\n",
              "    }\n",
              "\n",
              "    .dataframe thead th {\n",
              "        text-align: right;\n",
              "    }\n",
              "</style>\n",
              "<table border=\"1\" class=\"dataframe\">\n",
              "  <thead>\n",
              "    <tr style=\"text-align: right;\">\n",
              "      <th></th>\n",
              "      <th>Último</th>\n",
              "      <th>Abertura</th>\n",
              "      <th>Máxima</th>\n",
              "      <th>Mínima</th>\n",
              "      <th>Vol.</th>\n",
              "      <th>Var%</th>\n",
              "      <th>ibov</th>\n",
              "      <th>usd</th>\n",
              "    </tr>\n",
              "  </thead>\n",
              "  <tbody>\n",
              "    <tr>\n",
              "      <th>count</th>\n",
              "      <td>3707.000000</td>\n",
              "      <td>3707.000000</td>\n",
              "      <td>3707.000000</td>\n",
              "      <td>3707.000000</td>\n",
              "      <td>3.707000e+03</td>\n",
              "      <td>3707.000000</td>\n",
              "      <td>3707.000000</td>\n",
              "      <td>3707.000000</td>\n",
              "    </tr>\n",
              "    <tr>\n",
              "      <th>mean</th>\n",
              "      <td>4.812476</td>\n",
              "      <td>4.812339</td>\n",
              "      <td>4.871354</td>\n",
              "      <td>4.746285</td>\n",
              "      <td>1.738858e+07</td>\n",
              "      <td>0.000931</td>\n",
              "      <td>58289.194095</td>\n",
              "      <td>2.525792</td>\n",
              "    </tr>\n",
              "    <tr>\n",
              "      <th>std</th>\n",
              "      <td>2.829590</td>\n",
              "      <td>2.830318</td>\n",
              "      <td>2.856159</td>\n",
              "      <td>2.800842</td>\n",
              "      <td>9.509616e+06</td>\n",
              "      <td>0.021797</td>\n",
              "      <td>17579.318880</td>\n",
              "      <td>0.771823</td>\n",
              "    </tr>\n",
              "    <tr>\n",
              "      <th>min</th>\n",
              "      <td>0.970000</td>\n",
              "      <td>0.960000</td>\n",
              "      <td>0.980000</td>\n",
              "      <td>0.930000</td>\n",
              "      <td>1.520000e+06</td>\n",
              "      <td>-0.112200</td>\n",
              "      <td>23609.970000</td>\n",
              "      <td>1.538300</td>\n",
              "    </tr>\n",
              "    <tr>\n",
              "      <th>25%</th>\n",
              "      <td>2.850000</td>\n",
              "      <td>2.850000</td>\n",
              "      <td>2.880000</td>\n",
              "      <td>2.805000</td>\n",
              "      <td>1.115000e+07</td>\n",
              "      <td>-0.010900</td>\n",
              "      <td>48347.435000</td>\n",
              "      <td>1.880200</td>\n",
              "    </tr>\n",
              "    <tr>\n",
              "      <th>50%</th>\n",
              "      <td>4.080000</td>\n",
              "      <td>4.080000</td>\n",
              "      <td>4.130000</td>\n",
              "      <td>4.030000</td>\n",
              "      <td>1.567000e+07</td>\n",
              "      <td>0.000000</td>\n",
              "      <td>56852.840000</td>\n",
              "      <td>2.241500</td>\n",
              "    </tr>\n",
              "    <tr>\n",
              "      <th>75%</th>\n",
              "      <td>5.655000</td>\n",
              "      <td>5.655000</td>\n",
              "      <td>5.730000</td>\n",
              "      <td>5.570000</td>\n",
              "      <td>2.130000e+07</td>\n",
              "      <td>0.011850</td>\n",
              "      <td>66278.280000</td>\n",
              "      <td>3.200150</td>\n",
              "    </tr>\n",
              "    <tr>\n",
              "      <th>max</th>\n",
              "      <td>13.480000</td>\n",
              "      <td>13.490000</td>\n",
              "      <td>13.550000</td>\n",
              "      <td>13.310000</td>\n",
              "      <td>1.169000e+08</td>\n",
              "      <td>0.246100</td>\n",
              "      <td>117203.200000</td>\n",
              "      <td>4.263600</td>\n",
              "    </tr>\n",
              "  </tbody>\n",
              "</table>\n",
              "</div>"
            ],
            "text/plain": [
              "            Último     Abertura  ...           ibov          usd\n",
              "count  3707.000000  3707.000000  ...    3707.000000  3707.000000\n",
              "mean      4.812476     4.812339  ...   58289.194095     2.525792\n",
              "std       2.829590     2.830318  ...   17579.318880     0.771823\n",
              "min       0.970000     0.960000  ...   23609.970000     1.538300\n",
              "25%       2.850000     2.850000  ...   48347.435000     1.880200\n",
              "50%       4.080000     4.080000  ...   56852.840000     2.241500\n",
              "75%       5.655000     5.655000  ...   66278.280000     3.200150\n",
              "max      13.480000    13.490000  ...  117203.200000     4.263600\n",
              "\n",
              "[8 rows x 8 columns]"
            ]
          },
          "metadata": {},
          "execution_count": 45
        }
      ]
    },
    {
      "cell_type": "code",
      "metadata": {
        "id": "OKpfHrxxbRyt"
      },
      "source": [
        "df_test = (\n",
        "    df_aux\n",
        "    .query('Data >= \"2020-01-01\" & Data <= \"2021-05-31\"')\n",
        "    .sort_values(by='Data', ascending = True)\n",
        "    .reset_index())\n"
      ],
      "execution_count": 46,
      "outputs": []
    },
    {
      "cell_type": "code",
      "metadata": {
        "colab": {
          "base_uri": "https://localhost:8080/"
        },
        "id": "f0fVw_LFf-Nj",
        "outputId": "aadca572-c1be-458c-ecb9-4d5c69407d0b"
      },
      "source": [
        "df_test.shape"
      ],
      "execution_count": 47,
      "outputs": [
        {
          "output_type": "execute_result",
          "data": {
            "text/plain": [
              "(319, 9)"
            ]
          },
          "metadata": {},
          "execution_count": 47
        }
      ]
    },
    {
      "cell_type": "code",
      "metadata": {
        "colab": {
          "base_uri": "https://localhost:8080/",
          "height": 296
        },
        "id": "yxrrEzr2fdyi",
        "outputId": "90b078e2-8ec6-4791-f246-084d5f5ce385"
      },
      "source": [
        "df_test.describe()"
      ],
      "execution_count": 48,
      "outputs": [
        {
          "output_type": "execute_result",
          "data": {
            "text/html": [
              "<div>\n",
              "<style scoped>\n",
              "    .dataframe tbody tr th:only-of-type {\n",
              "        vertical-align: middle;\n",
              "    }\n",
              "\n",
              "    .dataframe tbody tr th {\n",
              "        vertical-align: top;\n",
              "    }\n",
              "\n",
              "    .dataframe thead th {\n",
              "        text-align: right;\n",
              "    }\n",
              "</style>\n",
              "<table border=\"1\" class=\"dataframe\">\n",
              "  <thead>\n",
              "    <tr style=\"text-align: right;\">\n",
              "      <th></th>\n",
              "      <th>Último</th>\n",
              "      <th>Abertura</th>\n",
              "      <th>Máxima</th>\n",
              "      <th>Mínima</th>\n",
              "      <th>Vol.</th>\n",
              "      <th>Var%</th>\n",
              "      <th>ibov</th>\n",
              "      <th>usd</th>\n",
              "    </tr>\n",
              "  </thead>\n",
              "  <tbody>\n",
              "    <tr>\n",
              "      <th>count</th>\n",
              "      <td>319.000000</td>\n",
              "      <td>319.000000</td>\n",
              "      <td>319.000000</td>\n",
              "      <td>319.000000</td>\n",
              "      <td>3.190000e+02</td>\n",
              "      <td>319.000000</td>\n",
              "      <td>319.000000</td>\n",
              "      <td>315.000000</td>\n",
              "    </tr>\n",
              "    <tr>\n",
              "      <th>mean</th>\n",
              "      <td>10.240219</td>\n",
              "      <td>10.260376</td>\n",
              "      <td>10.406207</td>\n",
              "      <td>10.099624</td>\n",
              "      <td>3.116821e+07</td>\n",
              "      <td>-0.000354</td>\n",
              "      <td>102906.534169</td>\n",
              "      <td>5.227836</td>\n",
              "    </tr>\n",
              "    <tr>\n",
              "      <th>std</th>\n",
              "      <td>1.264358</td>\n",
              "      <td>1.264397</td>\n",
              "      <td>1.241796</td>\n",
              "      <td>1.273442</td>\n",
              "      <td>1.286235e+07</td>\n",
              "      <td>0.026336</td>\n",
              "      <td>14478.235513</td>\n",
              "      <td>0.443218</td>\n",
              "    </tr>\n",
              "    <tr>\n",
              "      <th>min</th>\n",
              "      <td>7.420000</td>\n",
              "      <td>7.940000</td>\n",
              "      <td>8.170000</td>\n",
              "      <td>7.330000</td>\n",
              "      <td>1.028000e+07</td>\n",
              "      <td>-0.108700</td>\n",
              "      <td>63569.620000</td>\n",
              "      <td>4.026000</td>\n",
              "    </tr>\n",
              "    <tr>\n",
              "      <th>25%</th>\n",
              "      <td>9.290000</td>\n",
              "      <td>9.310000</td>\n",
              "      <td>9.455000</td>\n",
              "      <td>9.150000</td>\n",
              "      <td>2.221000e+07</td>\n",
              "      <td>-0.015050</td>\n",
              "      <td>95674.925000</td>\n",
              "      <td>5.133850</td>\n",
              "    </tr>\n",
              "    <tr>\n",
              "      <th>50%</th>\n",
              "      <td>10.140000</td>\n",
              "      <td>10.150000</td>\n",
              "      <td>10.290000</td>\n",
              "      <td>10.000000</td>\n",
              "      <td>2.828000e+07</td>\n",
              "      <td>0.000000</td>\n",
              "      <td>102829.960000</td>\n",
              "      <td>5.343000</td>\n",
              "    </tr>\n",
              "    <tr>\n",
              "      <th>75%</th>\n",
              "      <td>10.840000</td>\n",
              "      <td>10.840000</td>\n",
              "      <td>10.975000</td>\n",
              "      <td>10.695000</td>\n",
              "      <td>3.784500e+07</td>\n",
              "      <td>0.014500</td>\n",
              "      <td>115665.090000</td>\n",
              "      <td>5.515200</td>\n",
              "    </tr>\n",
              "    <tr>\n",
              "      <th>max</th>\n",
              "      <td>13.640000</td>\n",
              "      <td>13.490000</td>\n",
              "      <td>13.660000</td>\n",
              "      <td>13.420000</td>\n",
              "      <td>7.858000e+07</td>\n",
              "      <td>0.100300</td>\n",
              "      <td>123480.520000</td>\n",
              "      <td>5.885600</td>\n",
              "    </tr>\n",
              "  </tbody>\n",
              "</table>\n",
              "</div>"
            ],
            "text/plain": [
              "           Último    Abertura  ...           ibov         usd\n",
              "count  319.000000  319.000000  ...     319.000000  315.000000\n",
              "mean    10.240219   10.260376  ...  102906.534169    5.227836\n",
              "std      1.264358    1.264397  ...   14478.235513    0.443218\n",
              "min      7.420000    7.940000  ...   63569.620000    4.026000\n",
              "25%      9.290000    9.310000  ...   95674.925000    5.133850\n",
              "50%     10.140000   10.150000  ...  102829.960000    5.343000\n",
              "75%     10.840000   10.840000  ...  115665.090000    5.515200\n",
              "max     13.640000   13.490000  ...  123480.520000    5.885600\n",
              "\n",
              "[8 rows x 8 columns]"
            ]
          },
          "metadata": {},
          "execution_count": 48
        }
      ]
    },
    {
      "cell_type": "code",
      "metadata": {
        "colab": {
          "base_uri": "https://localhost:8080/",
          "height": 304
        },
        "id": "0Nyyj9uxfgwI",
        "outputId": "cccb3c2a-cf38-496e-c5df-03273069b6b7"
      },
      "source": [
        "plt.plot( df_train.Data,df_train.Último)\n",
        "plt.figure(figsize=(10,20))"
      ],
      "execution_count": 49,
      "outputs": [
        {
          "output_type": "execute_result",
          "data": {
            "text/plain": [
              "<Figure size 720x1440 with 0 Axes>"
            ]
          },
          "metadata": {},
          "execution_count": 49
        },
        {
          "output_type": "display_data",
          "data": {
            "image/png": "[encoded data removed]",
            "text/plain": [
              "<Figure size 432x288 with 1 Axes>"
            ]
          },
          "metadata": {
            "needs_background": "light"
          }
        },
        {
          "output_type": "display_data",
          "data": {
            "text/plain": [
              "<Figure size 720x1440 with 0 Axes>"
            ]
          },
          "metadata": {}
        }
      ]
    },
    {
      "cell_type": "code",
      "metadata": {
        "colab": {
          "base_uri": "https://localhost:8080/",
          "height": 283
        },
        "id": "6SqtmaaOuSxP",
        "outputId": "e974b8d2-f271-492e-be48-790072546765"
      },
      "source": [
        "plt.plot( df_test.Data,df_test.Último)"
      ],
      "execution_count": 50,
      "outputs": [
        {
          "output_type": "execute_result",
          "data": {
            "text/plain": [
              "[<matplotlib.lines.Line2D at 0x7f8678451690>]"
            ]
          },
          "metadata": {},
          "execution_count": 50
        },
        {
          "output_type": "display_data",
          "data": {
            "image/png": "[encoded data removed]",
            "text/plain": [
              "<Figure size 432x288 with 1 Axes>"
            ]
          },
          "metadata": {
            "needs_background": "light"
          }
        }
      ]
    },
    {
      "cell_type": "code",
      "metadata": {
        "id": "1bgov86hzBeC",
        "colab": {
          "base_uri": "https://localhost:8080/",
          "height": 111
        },
        "outputId": "26aeed96-333f-4906-88d8-99f47d74837c"
      },
      "source": [
        "df.agg({'Data': ['min', 'max']})"
      ],
      "execution_count": 51,
      "outputs": [
        {
          "output_type": "execute_result",
          "data": {
            "text/html": [
              "<div>\n",
              "<style scoped>\n",
              "    .dataframe tbody tr th:only-of-type {\n",
              "        vertical-align: middle;\n",
              "    }\n",
              "\n",
              "    .dataframe tbody tr th {\n",
              "        vertical-align: top;\n",
              "    }\n",
              "\n",
              "    .dataframe thead th {\n",
              "        text-align: right;\n",
              "    }\n",
              "</style>\n",
              "<table border=\"1\" class=\"dataframe\">\n",
              "  <thead>\n",
              "    <tr style=\"text-align: right;\">\n",
              "      <th></th>\n",
              "      <th>Data</th>\n",
              "    </tr>\n",
              "  </thead>\n",
              "  <tbody>\n",
              "    <tr>\n",
              "      <th>min</th>\n",
              "      <td>2005-01-04</td>\n",
              "    </tr>\n",
              "    <tr>\n",
              "      <th>max</th>\n",
              "      <td>2021-12-05</td>\n",
              "    </tr>\n",
              "  </tbody>\n",
              "</table>\n",
              "</div>"
            ],
            "text/plain": [
              "          Data\n",
              "min 2005-01-04\n",
              "max 2021-12-05"
            ]
          },
          "metadata": {},
          "execution_count": 51
        }
      ]
    },
    {
      "cell_type": "code",
      "metadata": {
        "id": "fSqvh76JrDZW"
      },
      "source": [
        "# colocando informações de mês, dia, dia da semana e dia do ano na base de treinamento.\n",
        "\n",
        "df_train['mês']       = pd.DatetimeIndex(df_train.Data).month\n",
        "df_train['dia']       = pd.DatetimeIndex(df_train.Data).day\n",
        "df_train['weekday']   = pd.DatetimeIndex(df_train.Data).weekday\n",
        "df_train['dayofyear'] = pd.DatetimeIndex(df_train.Data).dayofyear\n"
      ],
      "execution_count": 52,
      "outputs": []
    },
    {
      "cell_type": "code",
      "metadata": {
        "id": "_tABITnxIHud"
      },
      "source": [
        "df_train['valor_atual']    = df_train['Último'].shift(1).copy()\n",
        "df_train['valor_anterior'] = df_train['Último'].shift(2).copy()\n",
        "df_train['diff_valor']    = (df_train['valor_atual']-df_train['valor_anterior'])"
      ],
      "execution_count": 53,
      "outputs": []
    },
    {
      "cell_type": "code",
      "metadata": {
        "id": "T079zips284e"
      },
      "source": [
        "\n",
        "# Calculo da média móvel adaptativa\n",
        "# df_train['ama'] = (df_train['Var%']/(df_train['Var%'].rolling(3).sum())).round(3)\n",
        "# Média móvel do últimos 3 dias\n",
        "df_train['media_mov'] = df_train['Último'].rolling(3).mean().round(3)"
      ],
      "execution_count": 54,
      "outputs": []
    },
    {
      "cell_type": "code",
      "metadata": {
        "colab": {
          "base_uri": "https://localhost:8080/",
          "height": 204
        },
        "id": "H4a5pt8O-E2z",
        "outputId": "22859322-8188-41b9-a75b-7dbaf8831f42"
      },
      "source": [
        "df_train.head()"
      ],
      "execution_count": 55,
      "outputs": [
        {
          "output_type": "execute_result",
          "data": {
            "text/html": [
              "<div>\n",
              "<style scoped>\n",
              "    .dataframe tbody tr th:only-of-type {\n",
              "        vertical-align: middle;\n",
              "    }\n",
              "\n",
              "    .dataframe tbody tr th {\n",
              "        vertical-align: top;\n",
              "    }\n",
              "\n",
              "    .dataframe thead th {\n",
              "        text-align: right;\n",
              "    }\n",
              "</style>\n",
              "<table border=\"1\" class=\"dataframe\">\n",
              "  <thead>\n",
              "    <tr style=\"text-align: right;\">\n",
              "      <th></th>\n",
              "      <th>Data</th>\n",
              "      <th>Último</th>\n",
              "      <th>Abertura</th>\n",
              "      <th>Máxima</th>\n",
              "      <th>Mínima</th>\n",
              "      <th>Vol.</th>\n",
              "      <th>Var%</th>\n",
              "      <th>ibov</th>\n",
              "      <th>usd</th>\n",
              "      <th>mês</th>\n",
              "      <th>dia</th>\n",
              "      <th>weekday</th>\n",
              "      <th>dayofyear</th>\n",
              "      <th>valor_atual</th>\n",
              "      <th>valor_anterior</th>\n",
              "      <th>diff_valor</th>\n",
              "      <th>media_mov</th>\n",
              "    </tr>\n",
              "  </thead>\n",
              "  <tbody>\n",
              "    <tr>\n",
              "      <th>0</th>\n",
              "      <td>2005-01-02</td>\n",
              "      <td>1.01</td>\n",
              "      <td>1.00</td>\n",
              "      <td>1.02</td>\n",
              "      <td>1.00</td>\n",
              "      <td>6740000.0</td>\n",
              "      <td>0.0100</td>\n",
              "      <td>24149.46</td>\n",
              "      <td>2.6080</td>\n",
              "      <td>1</td>\n",
              "      <td>2</td>\n",
              "      <td>6</td>\n",
              "      <td>2</td>\n",
              "      <td>NaN</td>\n",
              "      <td>NaN</td>\n",
              "      <td>NaN</td>\n",
              "      <td>NaN</td>\n",
              "    </tr>\n",
              "    <tr>\n",
              "      <th>1</th>\n",
              "      <td>2005-01-03</td>\n",
              "      <td>1.14</td>\n",
              "      <td>1.13</td>\n",
              "      <td>1.14</td>\n",
              "      <td>1.11</td>\n",
              "      <td>17680000.0</td>\n",
              "      <td>0.0179</td>\n",
              "      <td>27729.98</td>\n",
              "      <td>2.6295</td>\n",
              "      <td>1</td>\n",
              "      <td>3</td>\n",
              "      <td>0</td>\n",
              "      <td>3</td>\n",
              "      <td>1.01</td>\n",
              "      <td>NaN</td>\n",
              "      <td>NaN</td>\n",
              "      <td>NaN</td>\n",
              "    </tr>\n",
              "    <tr>\n",
              "      <th>2</th>\n",
              "      <td>2005-01-04</td>\n",
              "      <td>1.10</td>\n",
              "      <td>1.12</td>\n",
              "      <td>1.12</td>\n",
              "      <td>1.09</td>\n",
              "      <td>9990000.0</td>\n",
              "      <td>0.0092</td>\n",
              "      <td>26773.83</td>\n",
              "      <td>2.6588</td>\n",
              "      <td>1</td>\n",
              "      <td>4</td>\n",
              "      <td>1</td>\n",
              "      <td>4</td>\n",
              "      <td>1.14</td>\n",
              "      <td>1.01</td>\n",
              "      <td>0.13</td>\n",
              "      <td>1.083</td>\n",
              "    </tr>\n",
              "    <tr>\n",
              "      <th>3</th>\n",
              "      <td>2005-01-06</td>\n",
              "      <td>1.11</td>\n",
              "      <td>1.10</td>\n",
              "      <td>1.12</td>\n",
              "      <td>1.09</td>\n",
              "      <td>14620000.0</td>\n",
              "      <td>0.0183</td>\n",
              "      <td>25948.83</td>\n",
              "      <td>2.4566</td>\n",
              "      <td>1</td>\n",
              "      <td>6</td>\n",
              "      <td>3</td>\n",
              "      <td>6</td>\n",
              "      <td>1.10</td>\n",
              "      <td>1.14</td>\n",
              "      <td>-0.04</td>\n",
              "      <td>1.117</td>\n",
              "    </tr>\n",
              "    <tr>\n",
              "      <th>4</th>\n",
              "      <td>2005-01-07</td>\n",
              "      <td>1.12</td>\n",
              "      <td>1.13</td>\n",
              "      <td>1.13</td>\n",
              "      <td>1.12</td>\n",
              "      <td>5710000.0</td>\n",
              "      <td>-0.0088</td>\n",
              "      <td>25311.44</td>\n",
              "      <td>2.3565</td>\n",
              "      <td>1</td>\n",
              "      <td>7</td>\n",
              "      <td>4</td>\n",
              "      <td>7</td>\n",
              "      <td>1.11</td>\n",
              "      <td>1.10</td>\n",
              "      <td>0.01</td>\n",
              "      <td>1.110</td>\n",
              "    </tr>\n",
              "  </tbody>\n",
              "</table>\n",
              "</div>"
            ],
            "text/plain": [
              "        Data  Último  Abertura  ...  valor_anterior  diff_valor  media_mov\n",
              "0 2005-01-02    1.01      1.00  ...             NaN         NaN        NaN\n",
              "1 2005-01-03    1.14      1.13  ...             NaN         NaN        NaN\n",
              "2 2005-01-04    1.10      1.12  ...            1.01        0.13      1.083\n",
              "3 2005-01-06    1.11      1.10  ...            1.14       -0.04      1.117\n",
              "4 2005-01-07    1.12      1.13  ...            1.10        0.01      1.110\n",
              "\n",
              "[5 rows x 17 columns]"
            ]
          },
          "metadata": {},
          "execution_count": 55
        }
      ]
    },
    {
      "cell_type": "code",
      "metadata": {
        "id": "aa76GeNDlUnj",
        "colab": {
          "base_uri": "https://localhost:8080/",
          "height": 204
        },
        "outputId": "bf17caf6-f3c0-4418-b307-7512d7ad08ba"
      },
      "source": [
        "df_test.head()"
      ],
      "execution_count": 56,
      "outputs": [
        {
          "output_type": "execute_result",
          "data": {
            "text/html": [
              "<div>\n",
              "<style scoped>\n",
              "    .dataframe tbody tr th:only-of-type {\n",
              "        vertical-align: middle;\n",
              "    }\n",
              "\n",
              "    .dataframe tbody tr th {\n",
              "        vertical-align: top;\n",
              "    }\n",
              "\n",
              "    .dataframe thead th {\n",
              "        text-align: right;\n",
              "    }\n",
              "</style>\n",
              "<table border=\"1\" class=\"dataframe\">\n",
              "  <thead>\n",
              "    <tr style=\"text-align: right;\">\n",
              "      <th></th>\n",
              "      <th>Data</th>\n",
              "      <th>Último</th>\n",
              "      <th>Abertura</th>\n",
              "      <th>Máxima</th>\n",
              "      <th>Mínima</th>\n",
              "      <th>Vol.</th>\n",
              "      <th>Var%</th>\n",
              "      <th>ibov</th>\n",
              "      <th>usd</th>\n",
              "    </tr>\n",
              "  </thead>\n",
              "  <tbody>\n",
              "    <tr>\n",
              "      <th>0</th>\n",
              "      <td>2020-01-04</td>\n",
              "      <td>8.13</td>\n",
              "      <td>8.37</td>\n",
              "      <td>8.37</td>\n",
              "      <td>8.12</td>\n",
              "      <td>34100000.0</td>\n",
              "      <td>-0.0582</td>\n",
              "      <td>70966.70</td>\n",
              "      <td>5.2493</td>\n",
              "    </tr>\n",
              "    <tr>\n",
              "      <th>1</th>\n",
              "      <td>2020-01-06</td>\n",
              "      <td>8.95</td>\n",
              "      <td>8.73</td>\n",
              "      <td>9.03</td>\n",
              "      <td>8.65</td>\n",
              "      <td>38740000.0</td>\n",
              "      <td>0.0260</td>\n",
              "      <td>88620.10</td>\n",
              "      <td>5.3633</td>\n",
              "    </tr>\n",
              "    <tr>\n",
              "      <th>2</th>\n",
              "      <td>2020-01-07</td>\n",
              "      <td>9.66</td>\n",
              "      <td>9.54</td>\n",
              "      <td>9.74</td>\n",
              "      <td>9.51</td>\n",
              "      <td>25430000.0</td>\n",
              "      <td>0.0209</td>\n",
              "      <td>96203.20</td>\n",
              "      <td>5.3174</td>\n",
              "    </tr>\n",
              "    <tr>\n",
              "      <th>3</th>\n",
              "      <td>2020-01-09</td>\n",
              "      <td>9.63</td>\n",
              "      <td>9.46</td>\n",
              "      <td>9.63</td>\n",
              "      <td>9.44</td>\n",
              "      <td>25130000.0</td>\n",
              "      <td>0.0329</td>\n",
              "      <td>102167.65</td>\n",
              "      <td>5.3960</td>\n",
              "    </tr>\n",
              "    <tr>\n",
              "      <th>4</th>\n",
              "      <td>2020-01-10</td>\n",
              "      <td>8.82</td>\n",
              "      <td>8.77</td>\n",
              "      <td>8.84</td>\n",
              "      <td>8.68</td>\n",
              "      <td>22480000.0</td>\n",
              "      <td>0.0114</td>\n",
              "      <td>95478.52</td>\n",
              "      <td>5.6437</td>\n",
              "    </tr>\n",
              "  </tbody>\n",
              "</table>\n",
              "</div>"
            ],
            "text/plain": [
              "        Data  Último  Abertura  Máxima  ...        Vol.    Var%       ibov     usd\n",
              "0 2020-01-04    8.13      8.37    8.37  ...  34100000.0 -0.0582   70966.70  5.2493\n",
              "1 2020-01-06    8.95      8.73    9.03  ...  38740000.0  0.0260   88620.10  5.3633\n",
              "2 2020-01-07    9.66      9.54    9.74  ...  25430000.0  0.0209   96203.20  5.3174\n",
              "3 2020-01-09    9.63      9.46    9.63  ...  25130000.0  0.0329  102167.65  5.3960\n",
              "4 2020-01-10    8.82      8.77    8.84  ...  22480000.0  0.0114   95478.52  5.6437\n",
              "\n",
              "[5 rows x 9 columns]"
            ]
          },
          "metadata": {},
          "execution_count": 56
        }
      ]
    },
    {
      "cell_type": "code",
      "metadata": {
        "id": "l2Q7LmPu2-oF"
      },
      "source": [
        "# colocando informações de mês, dia, dia da semana e dia do ano\n",
        "\n",
        "df_test['mês']       = pd.DatetimeIndex(df_test.Data).month\n",
        "df_test['dia']       = pd.DatetimeIndex(df_test.Data).day\n",
        "df_test['weekday']   = pd.DatetimeIndex(df_test.Data).weekday\n",
        "df_test['dayofyear'] = pd.DatetimeIndex(df_test.Data).dayofyear"
      ],
      "execution_count": 57,
      "outputs": []
    },
    {
      "cell_type": "code",
      "metadata": {
        "id": "76Ugom67IGwZ"
      },
      "source": [
        "df_test['valor_atual']    = df_test['Último'].shift(1).copy()\n",
        "df_test['valor_anterior'] = df_test['Último'].shift(2).copy()\n",
        "df_test['diff_valor']    = (df_test['valor_atual']-df_test['valor_anterior'])"
      ],
      "execution_count": 58,
      "outputs": []
    },
    {
      "cell_type": "code",
      "metadata": {
        "id": "9X0hRnQdCJuF"
      },
      "source": [
        "\n",
        "# Calculo da média móvel adaptativa\n",
        "# df_test['ama'] = (df_test['Var%']/(df_test['Var%'].rolling(3).sum())).round(3)\n",
        "# média móvel dos últimos 3 dias\n",
        "df_test['media_mov'] = df_test['Último'].rolling(3).mean().round(3)"
      ],
      "execution_count": 59,
      "outputs": []
    },
    {
      "cell_type": "code",
      "metadata": {
        "colab": {
          "base_uri": "https://localhost:8080/",
          "height": 204
        },
        "id": "mikp_zN53Lim",
        "outputId": "61a0467f-568a-4cdc-a737-52cfe162de08"
      },
      "source": [
        "df_test.head()"
      ],
      "execution_count": 60,
      "outputs": [
        {
          "output_type": "execute_result",
          "data": {
            "text/html": [
              "<div>\n",
              "<style scoped>\n",
              "    .dataframe tbody tr th:only-of-type {\n",
              "        vertical-align: middle;\n",
              "    }\n",
              "\n",
              "    .dataframe tbody tr th {\n",
              "        vertical-align: top;\n",
              "    }\n",
              "\n",
              "    .dataframe thead th {\n",
              "        text-align: right;\n",
              "    }\n",
              "</style>\n",
              "<table border=\"1\" class=\"dataframe\">\n",
              "  <thead>\n",
              "    <tr style=\"text-align: right;\">\n",
              "      <th></th>\n",
              "      <th>Data</th>\n",
              "      <th>Último</th>\n",
              "      <th>Abertura</th>\n",
              "      <th>Máxima</th>\n",
              "      <th>Mínima</th>\n",
              "      <th>Vol.</th>\n",
              "      <th>Var%</th>\n",
              "      <th>ibov</th>\n",
              "      <th>usd</th>\n",
              "      <th>mês</th>\n",
              "      <th>dia</th>\n",
              "      <th>weekday</th>\n",
              "      <th>dayofyear</th>\n",
              "      <th>valor_atual</th>\n",
              "      <th>valor_anterior</th>\n",
              "      <th>diff_valor</th>\n",
              "      <th>media_mov</th>\n",
              "    </tr>\n",
              "  </thead>\n",
              "  <tbody>\n",
              "    <tr>\n",
              "      <th>0</th>\n",
              "      <td>2020-01-04</td>\n",
              "      <td>8.13</td>\n",
              "      <td>8.37</td>\n",
              "      <td>8.37</td>\n",
              "      <td>8.12</td>\n",
              "      <td>34100000.0</td>\n",
              "      <td>-0.0582</td>\n",
              "      <td>70966.70</td>\n",
              "      <td>5.2493</td>\n",
              "      <td>1</td>\n",
              "      <td>4</td>\n",
              "      <td>5</td>\n",
              "      <td>4</td>\n",
              "      <td>NaN</td>\n",
              "      <td>NaN</td>\n",
              "      <td>NaN</td>\n",
              "      <td>NaN</td>\n",
              "    </tr>\n",
              "    <tr>\n",
              "      <th>1</th>\n",
              "      <td>2020-01-06</td>\n",
              "      <td>8.95</td>\n",
              "      <td>8.73</td>\n",
              "      <td>9.03</td>\n",
              "      <td>8.65</td>\n",
              "      <td>38740000.0</td>\n",
              "      <td>0.0260</td>\n",
              "      <td>88620.10</td>\n",
              "      <td>5.3633</td>\n",
              "      <td>1</td>\n",
              "      <td>6</td>\n",
              "      <td>0</td>\n",
              "      <td>6</td>\n",
              "      <td>8.13</td>\n",
              "      <td>NaN</td>\n",
              "      <td>NaN</td>\n",
              "      <td>NaN</td>\n",
              "    </tr>\n",
              "    <tr>\n",
              "      <th>2</th>\n",
              "      <td>2020-01-07</td>\n",
              "      <td>9.66</td>\n",
              "      <td>9.54</td>\n",
              "      <td>9.74</td>\n",
              "      <td>9.51</td>\n",
              "      <td>25430000.0</td>\n",
              "      <td>0.0209</td>\n",
              "      <td>96203.20</td>\n",
              "      <td>5.3174</td>\n",
              "      <td>1</td>\n",
              "      <td>7</td>\n",
              "      <td>1</td>\n",
              "      <td>7</td>\n",
              "      <td>8.95</td>\n",
              "      <td>8.13</td>\n",
              "      <td>0.82</td>\n",
              "      <td>8.913</td>\n",
              "    </tr>\n",
              "    <tr>\n",
              "      <th>3</th>\n",
              "      <td>2020-01-09</td>\n",
              "      <td>9.63</td>\n",
              "      <td>9.46</td>\n",
              "      <td>9.63</td>\n",
              "      <td>9.44</td>\n",
              "      <td>25130000.0</td>\n",
              "      <td>0.0329</td>\n",
              "      <td>102167.65</td>\n",
              "      <td>5.3960</td>\n",
              "      <td>1</td>\n",
              "      <td>9</td>\n",
              "      <td>3</td>\n",
              "      <td>9</td>\n",
              "      <td>9.66</td>\n",
              "      <td>8.95</td>\n",
              "      <td>0.71</td>\n",
              "      <td>9.413</td>\n",
              "    </tr>\n",
              "    <tr>\n",
              "      <th>4</th>\n",
              "      <td>2020-01-10</td>\n",
              "      <td>8.82</td>\n",
              "      <td>8.77</td>\n",
              "      <td>8.84</td>\n",
              "      <td>8.68</td>\n",
              "      <td>22480000.0</td>\n",
              "      <td>0.0114</td>\n",
              "      <td>95478.52</td>\n",
              "      <td>5.6437</td>\n",
              "      <td>1</td>\n",
              "      <td>10</td>\n",
              "      <td>4</td>\n",
              "      <td>10</td>\n",
              "      <td>9.63</td>\n",
              "      <td>9.66</td>\n",
              "      <td>-0.03</td>\n",
              "      <td>9.370</td>\n",
              "    </tr>\n",
              "  </tbody>\n",
              "</table>\n",
              "</div>"
            ],
            "text/plain": [
              "        Data  Último  Abertura  ...  valor_anterior  diff_valor  media_mov\n",
              "0 2020-01-04    8.13      8.37  ...             NaN         NaN        NaN\n",
              "1 2020-01-06    8.95      8.73  ...             NaN         NaN        NaN\n",
              "2 2020-01-07    9.66      9.54  ...            8.13        0.82      8.913\n",
              "3 2020-01-09    9.63      9.46  ...            8.95        0.71      9.413\n",
              "4 2020-01-10    8.82      8.77  ...            9.66       -0.03      9.370\n",
              "\n",
              "[5 rows x 17 columns]"
            ]
          },
          "metadata": {},
          "execution_count": 60
        }
      ]
    },
    {
      "cell_type": "code",
      "metadata": {
        "colab": {
          "base_uri": "https://localhost:8080/"
        },
        "id": "txxtUIg7iL1x",
        "outputId": "fb34dbe6-974b-46fa-e180-72bf6e6921e8"
      },
      "source": [
        "df_test.isnull().sum(), df_train.isnull().sum(), df_test.isna().sum(), df_train.isna().sum()"
      ],
      "execution_count": 61,
      "outputs": [
        {
          "output_type": "execute_result",
          "data": {
            "text/plain": [
              "(Data              0\n",
              " Último            0\n",
              " Abertura          0\n",
              " Máxima            0\n",
              " Mínima            0\n",
              " Vol.              0\n",
              " Var%              0\n",
              " ibov              0\n",
              " usd               4\n",
              " mês               0\n",
              " dia               0\n",
              " weekday           0\n",
              " dayofyear         0\n",
              " valor_atual       1\n",
              " valor_anterior    2\n",
              " diff_valor        2\n",
              " media_mov         2\n",
              " dtype: int64, Data              0\n",
              " Último            0\n",
              " Abertura          0\n",
              " Máxima            0\n",
              " Mínima            0\n",
              " Vol.              0\n",
              " Var%              0\n",
              " ibov              0\n",
              " usd               0\n",
              " mês               0\n",
              " dia               0\n",
              " weekday           0\n",
              " dayofyear         0\n",
              " valor_atual       1\n",
              " valor_anterior    2\n",
              " diff_valor        2\n",
              " media_mov         2\n",
              " dtype: int64, Data              0\n",
              " Último            0\n",
              " Abertura          0\n",
              " Máxima            0\n",
              " Mínima            0\n",
              " Vol.              0\n",
              " Var%              0\n",
              " ibov              0\n",
              " usd               4\n",
              " mês               0\n",
              " dia               0\n",
              " weekday           0\n",
              " dayofyear         0\n",
              " valor_atual       1\n",
              " valor_anterior    2\n",
              " diff_valor        2\n",
              " media_mov         2\n",
              " dtype: int64, Data              0\n",
              " Último            0\n",
              " Abertura          0\n",
              " Máxima            0\n",
              " Mínima            0\n",
              " Vol.              0\n",
              " Var%              0\n",
              " ibov              0\n",
              " usd               0\n",
              " mês               0\n",
              " dia               0\n",
              " weekday           0\n",
              " dayofyear         0\n",
              " valor_atual       1\n",
              " valor_anterior    2\n",
              " diff_valor        2\n",
              " media_mov         2\n",
              " dtype: int64)"
            ]
          },
          "metadata": {},
          "execution_count": 61
        }
      ]
    },
    {
      "cell_type": "code",
      "metadata": {
        "id": "gADRPK1C9W2A"
      },
      "source": [
        "target   = 'Último'\n",
        "\n",
        "cat_vars = (df_train.select_dtypes(include='object').columns.to_list())\n",
        "num_vars = [col for col in df_train.columns if col not in cat_vars + ['Data','Último']]\n",
        "\n",
        "features = num_vars"
      ],
      "execution_count": 63,
      "outputs": []
    },
    {
      "cell_type": "code",
      "metadata": {
        "id": "HT9_WuM9Dvtf"
      },
      "source": [
        "X_train = df_train.dropna().filter(features).copy()\n",
        "y_train = df_train.dropna()[target].copy()\n",
        "X_test  = df_test.dropna().filter(features).copy()\n",
        "y_test  = df_test.dropna()[target].copy()"
      ],
      "execution_count": 64,
      "outputs": []
    },
    {
      "cell_type": "code",
      "metadata": {
        "colab": {
          "base_uri": "https://localhost:8080/",
          "height": 753
        },
        "id": "uhKaVVnrCGQ9",
        "outputId": "fb5fec48-6527-4a6f-99b6-668d87c761f9"
      },
      "source": [
        "# Criando um mapa de calor para entender a correlação entre as variáveis\n",
        "\n",
        "fig, ax = plt.subplots()\n",
        "\n",
        "plt.figure(figsize=(12,7))\n",
        "sns.heatmap(df_test.corr(),\n",
        "            annot = True,\n",
        "            fmt = '.2f',\n",
        "            cmap='Greens')\n",
        "plt.setp(ax.get_xticklabels(), rotation=45, ha=\"right\", rotation_mode=\"anchor\")\n",
        "plt.show()"
      ],
      "execution_count": 65,
      "outputs": [
        {
          "output_type": "display_data",
          "data": {
            "image/png": "[encoded data removed]",
            "text/plain": [
              "<Figure size 432x288 with 1 Axes>"
            ]
          },
          "metadata": {
            "needs_background": "light"
          }
        },
        {
          "output_type": "display_data",
          "data": {
            "image/png": "[encoded data removed]",
            "text/plain": [
              "<Figure size 864x504 with 2 Axes>"
            ]
          },
          "metadata": {
            "needs_background": "light"
          }
        }
      ]
    },
    {
      "cell_type": "code",
      "metadata": {
        "colab": {
          "base_uri": "https://localhost:8080/",
          "height": 296
        },
        "id": "OQu-wNi2D8JL",
        "outputId": "3e68a838-b234-4f98-eac0-642e45a6ae3b"
      },
      "source": [
        "X_train.describe()"
      ],
      "execution_count": 66,
      "outputs": [
        {
          "output_type": "execute_result",
          "data": {
            "text/html": [
              "<div>\n",
              "<style scoped>\n",
              "    .dataframe tbody tr th:only-of-type {\n",
              "        vertical-align: middle;\n",
              "    }\n",
              "\n",
              "    .dataframe tbody tr th {\n",
              "        vertical-align: top;\n",
              "    }\n",
              "\n",
              "    .dataframe thead th {\n",
              "        text-align: right;\n",
              "    }\n",
              "</style>\n",
              "<table border=\"1\" class=\"dataframe\">\n",
              "  <thead>\n",
              "    <tr style=\"text-align: right;\">\n",
              "      <th></th>\n",
              "      <th>Abertura</th>\n",
              "      <th>Máxima</th>\n",
              "      <th>Mínima</th>\n",
              "      <th>Vol.</th>\n",
              "      <th>Var%</th>\n",
              "      <th>ibov</th>\n",
              "      <th>usd</th>\n",
              "      <th>mês</th>\n",
              "      <th>dia</th>\n",
              "      <th>weekday</th>\n",
              "      <th>dayofyear</th>\n",
              "      <th>valor_atual</th>\n",
              "      <th>valor_anterior</th>\n",
              "      <th>diff_valor</th>\n",
              "      <th>media_mov</th>\n",
              "    </tr>\n",
              "  </thead>\n",
              "  <tbody>\n",
              "    <tr>\n",
              "      <th>count</th>\n",
              "      <td>3705.000000</td>\n",
              "      <td>3705.000000</td>\n",
              "      <td>3705.000000</td>\n",
              "      <td>3.705000e+03</td>\n",
              "      <td>3705.000000</td>\n",
              "      <td>3705.000000</td>\n",
              "      <td>3705.000000</td>\n",
              "      <td>3705.000000</td>\n",
              "      <td>3705.000000</td>\n",
              "      <td>3705.000000</td>\n",
              "      <td>3705.000000</td>\n",
              "      <td>3705.000000</td>\n",
              "      <td>3705.000000</td>\n",
              "      <td>3705.000000</td>\n",
              "      <td>3705.000000</td>\n",
              "    </tr>\n",
              "    <tr>\n",
              "      <th>mean</th>\n",
              "      <td>4.814362</td>\n",
              "      <td>4.873401</td>\n",
              "      <td>4.748278</td>\n",
              "      <td>1.739138e+07</td>\n",
              "      <td>0.000924</td>\n",
              "      <td>58306.656699</td>\n",
              "      <td>2.525742</td>\n",
              "      <td>6.520648</td>\n",
              "      <td>15.746559</td>\n",
              "      <td>2.365182</td>\n",
              "      <td>183.015924</td>\n",
              "      <td>4.811188</td>\n",
              "      <td>4.807835</td>\n",
              "      <td>0.003352</td>\n",
              "      <td>4.811172</td>\n",
              "    </tr>\n",
              "    <tr>\n",
              "      <th>std</th>\n",
              "      <td>2.829742</td>\n",
              "      <td>2.855570</td>\n",
              "      <td>2.800284</td>\n",
              "      <td>9.510572e+06</td>\n",
              "      <td>0.021801</td>\n",
              "      <td>17567.931645</td>\n",
              "      <td>0.772028</td>\n",
              "      <td>3.389679</td>\n",
              "      <td>8.769840</td>\n",
              "      <td>1.724624</td>\n",
              "      <td>103.487199</td>\n",
              "      <td>2.826151</td>\n",
              "      <td>2.823290</td>\n",
              "      <td>0.387233</td>\n",
              "      <td>2.815280</td>\n",
              "    </tr>\n",
              "    <tr>\n",
              "      <th>min</th>\n",
              "      <td>0.960000</td>\n",
              "      <td>0.980000</td>\n",
              "      <td>0.930000</td>\n",
              "      <td>1.520000e+06</td>\n",
              "      <td>-0.112200</td>\n",
              "      <td>23609.970000</td>\n",
              "      <td>1.538300</td>\n",
              "      <td>1.000000</td>\n",
              "      <td>1.000000</td>\n",
              "      <td>0.000000</td>\n",
              "      <td>2.000000</td>\n",
              "      <td>0.970000</td>\n",
              "      <td>0.970000</td>\n",
              "      <td>-2.720000</td>\n",
              "      <td>0.977000</td>\n",
              "    </tr>\n",
              "    <tr>\n",
              "      <th>25%</th>\n",
              "      <td>2.850000</td>\n",
              "      <td>2.890000</td>\n",
              "      <td>2.810000</td>\n",
              "      <td>1.115000e+07</td>\n",
              "      <td>-0.010900</td>\n",
              "      <td>48388.050000</td>\n",
              "      <td>1.880200</td>\n",
              "      <td>4.000000</td>\n",
              "      <td>8.000000</td>\n",
              "      <td>1.000000</td>\n",
              "      <td>94.000000</td>\n",
              "      <td>2.850000</td>\n",
              "      <td>2.850000</td>\n",
              "      <td>-0.080000</td>\n",
              "      <td>2.830000</td>\n",
              "    </tr>\n",
              "    <tr>\n",
              "      <th>50%</th>\n",
              "      <td>4.080000</td>\n",
              "      <td>4.130000</td>\n",
              "      <td>4.030000</td>\n",
              "      <td>1.567000e+07</td>\n",
              "      <td>0.000000</td>\n",
              "      <td>56863.910000</td>\n",
              "      <td>2.241500</td>\n",
              "      <td>7.000000</td>\n",
              "      <td>16.000000</td>\n",
              "      <td>2.000000</td>\n",
              "      <td>183.000000</td>\n",
              "      <td>4.080000</td>\n",
              "      <td>4.080000</td>\n",
              "      <td>0.000000</td>\n",
              "      <td>4.080000</td>\n",
              "    </tr>\n",
              "    <tr>\n",
              "      <th>75%</th>\n",
              "      <td>5.660000</td>\n",
              "      <td>5.730000</td>\n",
              "      <td>5.570000</td>\n",
              "      <td>2.130000e+07</td>\n",
              "      <td>0.011800</td>\n",
              "      <td>66278.890000</td>\n",
              "      <td>3.201200</td>\n",
              "      <td>9.000000</td>\n",
              "      <td>23.000000</td>\n",
              "      <td>4.000000</td>\n",
              "      <td>272.000000</td>\n",
              "      <td>5.650000</td>\n",
              "      <td>5.650000</td>\n",
              "      <td>0.110000</td>\n",
              "      <td>5.613000</td>\n",
              "    </tr>\n",
              "    <tr>\n",
              "      <th>max</th>\n",
              "      <td>13.490000</td>\n",
              "      <td>13.550000</td>\n",
              "      <td>13.310000</td>\n",
              "      <td>1.169000e+08</td>\n",
              "      <td>0.246100</td>\n",
              "      <td>117203.200000</td>\n",
              "      <td>4.263600</td>\n",
              "      <td>12.000000</td>\n",
              "      <td>31.000000</td>\n",
              "      <td>6.000000</td>\n",
              "      <td>365.000000</td>\n",
              "      <td>13.480000</td>\n",
              "      <td>13.480000</td>\n",
              "      <td>2.180000</td>\n",
              "      <td>13.433000</td>\n",
              "    </tr>\n",
              "  </tbody>\n",
              "</table>\n",
              "</div>"
            ],
            "text/plain": [
              "          Abertura       Máxima  ...   diff_valor    media_mov\n",
              "count  3705.000000  3705.000000  ...  3705.000000  3705.000000\n",
              "mean      4.814362     4.873401  ...     0.003352     4.811172\n",
              "std       2.829742     2.855570  ...     0.387233     2.815280\n",
              "min       0.960000     0.980000  ...    -2.720000     0.977000\n",
              "25%       2.850000     2.890000  ...    -0.080000     2.830000\n",
              "50%       4.080000     4.130000  ...     0.000000     4.080000\n",
              "75%       5.660000     5.730000  ...     0.110000     5.613000\n",
              "max      13.490000    13.550000  ...     2.180000    13.433000\n",
              "\n",
              "[8 rows x 15 columns]"
            ]
          },
          "metadata": {},
          "execution_count": 66
        }
      ]
    },
    {
      "cell_type": "code",
      "metadata": {
        "colab": {
          "base_uri": "https://localhost:8080/",
          "height": 141
        },
        "id": "S_ldbR7EJYni",
        "outputId": "bf64f115-eeee-4874-c71f-900d77767939"
      },
      "source": [
        "X_train.head(3)"
      ],
      "execution_count": 67,
      "outputs": [
        {
          "output_type": "execute_result",
          "data": {
            "text/html": [
              "<div>\n",
              "<style scoped>\n",
              "    .dataframe tbody tr th:only-of-type {\n",
              "        vertical-align: middle;\n",
              "    }\n",
              "\n",
              "    .dataframe tbody tr th {\n",
              "        vertical-align: top;\n",
              "    }\n",
              "\n",
              "    .dataframe thead th {\n",
              "        text-align: right;\n",
              "    }\n",
              "</style>\n",
              "<table border=\"1\" class=\"dataframe\">\n",
              "  <thead>\n",
              "    <tr style=\"text-align: right;\">\n",
              "      <th></th>\n",
              "      <th>Abertura</th>\n",
              "      <th>Máxima</th>\n",
              "      <th>Mínima</th>\n",
              "      <th>Vol.</th>\n",
              "      <th>Var%</th>\n",
              "      <th>ibov</th>\n",
              "      <th>usd</th>\n",
              "      <th>mês</th>\n",
              "      <th>dia</th>\n",
              "      <th>weekday</th>\n",
              "      <th>dayofyear</th>\n",
              "      <th>valor_atual</th>\n",
              "      <th>valor_anterior</th>\n",
              "      <th>diff_valor</th>\n",
              "      <th>media_mov</th>\n",
              "    </tr>\n",
              "  </thead>\n",
              "  <tbody>\n",
              "    <tr>\n",
              "      <th>2</th>\n",
              "      <td>1.12</td>\n",
              "      <td>1.12</td>\n",
              "      <td>1.09</td>\n",
              "      <td>9990000.0</td>\n",
              "      <td>0.0092</td>\n",
              "      <td>26773.83</td>\n",
              "      <td>2.6588</td>\n",
              "      <td>1</td>\n",
              "      <td>4</td>\n",
              "      <td>1</td>\n",
              "      <td>4</td>\n",
              "      <td>1.14</td>\n",
              "      <td>1.01</td>\n",
              "      <td>0.13</td>\n",
              "      <td>1.083</td>\n",
              "    </tr>\n",
              "    <tr>\n",
              "      <th>3</th>\n",
              "      <td>1.10</td>\n",
              "      <td>1.12</td>\n",
              "      <td>1.09</td>\n",
              "      <td>14620000.0</td>\n",
              "      <td>0.0183</td>\n",
              "      <td>25948.83</td>\n",
              "      <td>2.4566</td>\n",
              "      <td>1</td>\n",
              "      <td>6</td>\n",
              "      <td>3</td>\n",
              "      <td>6</td>\n",
              "      <td>1.10</td>\n",
              "      <td>1.14</td>\n",
              "      <td>-0.04</td>\n",
              "      <td>1.117</td>\n",
              "    </tr>\n",
              "    <tr>\n",
              "      <th>4</th>\n",
              "      <td>1.13</td>\n",
              "      <td>1.13</td>\n",
              "      <td>1.12</td>\n",
              "      <td>5710000.0</td>\n",
              "      <td>-0.0088</td>\n",
              "      <td>25311.44</td>\n",
              "      <td>2.3565</td>\n",
              "      <td>1</td>\n",
              "      <td>7</td>\n",
              "      <td>4</td>\n",
              "      <td>7</td>\n",
              "      <td>1.11</td>\n",
              "      <td>1.10</td>\n",
              "      <td>0.01</td>\n",
              "      <td>1.110</td>\n",
              "    </tr>\n",
              "  </tbody>\n",
              "</table>\n",
              "</div>"
            ],
            "text/plain": [
              "   Abertura  Máxima  Mínima  ...  valor_anterior  diff_valor  media_mov\n",
              "2      1.12    1.12    1.09  ...            1.01        0.13      1.083\n",
              "3      1.10    1.12    1.09  ...            1.14       -0.04      1.117\n",
              "4      1.13    1.13    1.12  ...            1.10        0.01      1.110\n",
              "\n",
              "[3 rows x 15 columns]"
            ]
          },
          "metadata": {},
          "execution_count": 67
        }
      ]
    },
    {
      "cell_type": "code",
      "metadata": {
        "colab": {
          "base_uri": "https://localhost:8080/",
          "height": 141
        },
        "id": "bWbLRGg0mpbD",
        "outputId": "4e2ad685-1ca0-4cc9-d07d-23bd724e9f1a"
      },
      "source": [
        "X_test.head(3)"
      ],
      "execution_count": 68,
      "outputs": [
        {
          "output_type": "execute_result",
          "data": {
            "text/html": [
              "<div>\n",
              "<style scoped>\n",
              "    .dataframe tbody tr th:only-of-type {\n",
              "        vertical-align: middle;\n",
              "    }\n",
              "\n",
              "    .dataframe tbody tr th {\n",
              "        vertical-align: top;\n",
              "    }\n",
              "\n",
              "    .dataframe thead th {\n",
              "        text-align: right;\n",
              "    }\n",
              "</style>\n",
              "<table border=\"1\" class=\"dataframe\">\n",
              "  <thead>\n",
              "    <tr style=\"text-align: right;\">\n",
              "      <th></th>\n",
              "      <th>Abertura</th>\n",
              "      <th>Máxima</th>\n",
              "      <th>Mínima</th>\n",
              "      <th>Vol.</th>\n",
              "      <th>Var%</th>\n",
              "      <th>ibov</th>\n",
              "      <th>usd</th>\n",
              "      <th>mês</th>\n",
              "      <th>dia</th>\n",
              "      <th>weekday</th>\n",
              "      <th>dayofyear</th>\n",
              "      <th>valor_atual</th>\n",
              "      <th>valor_anterior</th>\n",
              "      <th>diff_valor</th>\n",
              "      <th>media_mov</th>\n",
              "    </tr>\n",
              "  </thead>\n",
              "  <tbody>\n",
              "    <tr>\n",
              "      <th>2</th>\n",
              "      <td>9.54</td>\n",
              "      <td>9.74</td>\n",
              "      <td>9.51</td>\n",
              "      <td>25430000.0</td>\n",
              "      <td>0.0209</td>\n",
              "      <td>96203.20</td>\n",
              "      <td>5.3174</td>\n",
              "      <td>1</td>\n",
              "      <td>7</td>\n",
              "      <td>1</td>\n",
              "      <td>7</td>\n",
              "      <td>8.95</td>\n",
              "      <td>8.13</td>\n",
              "      <td>0.82</td>\n",
              "      <td>8.913</td>\n",
              "    </tr>\n",
              "    <tr>\n",
              "      <th>3</th>\n",
              "      <td>9.46</td>\n",
              "      <td>9.63</td>\n",
              "      <td>9.44</td>\n",
              "      <td>25130000.0</td>\n",
              "      <td>0.0329</td>\n",
              "      <td>102167.65</td>\n",
              "      <td>5.3960</td>\n",
              "      <td>1</td>\n",
              "      <td>9</td>\n",
              "      <td>3</td>\n",
              "      <td>9</td>\n",
              "      <td>9.66</td>\n",
              "      <td>8.95</td>\n",
              "      <td>0.71</td>\n",
              "      <td>9.413</td>\n",
              "    </tr>\n",
              "    <tr>\n",
              "      <th>4</th>\n",
              "      <td>8.77</td>\n",
              "      <td>8.84</td>\n",
              "      <td>8.68</td>\n",
              "      <td>22480000.0</td>\n",
              "      <td>0.0114</td>\n",
              "      <td>95478.52</td>\n",
              "      <td>5.6437</td>\n",
              "      <td>1</td>\n",
              "      <td>10</td>\n",
              "      <td>4</td>\n",
              "      <td>10</td>\n",
              "      <td>9.63</td>\n",
              "      <td>9.66</td>\n",
              "      <td>-0.03</td>\n",
              "      <td>9.370</td>\n",
              "    </tr>\n",
              "  </tbody>\n",
              "</table>\n",
              "</div>"
            ],
            "text/plain": [
              "   Abertura  Máxima  Mínima  ...  valor_anterior  diff_valor  media_mov\n",
              "2      9.54    9.74    9.51  ...            8.13        0.82      8.913\n",
              "3      9.46    9.63    9.44  ...            8.95        0.71      9.413\n",
              "4      8.77    8.84    8.68  ...            9.66       -0.03      9.370\n",
              "\n",
              "[3 rows x 15 columns]"
            ]
          },
          "metadata": {},
          "execution_count": 68
        }
      ]
    },
    {
      "cell_type": "code",
      "metadata": {
        "colab": {
          "base_uri": "https://localhost:8080/"
        },
        "id": "Cz0Ktjj7mu3b",
        "outputId": "0dcfb287-c2f4-4ef2-d127-ada04741957d"
      },
      "source": [
        "y_test.head(3)"
      ],
      "execution_count": 69,
      "outputs": [
        {
          "output_type": "execute_result",
          "data": {
            "text/plain": [
              "2    9.66\n",
              "3    9.63\n",
              "4    8.82\n",
              "Name: Último, dtype: float64"
            ]
          },
          "metadata": {},
          "execution_count": 69
        }
      ]
    },
    {
      "cell_type": "code",
      "metadata": {
        "colab": {
          "base_uri": "https://localhost:8080/"
        },
        "id": "9SCKkokNmzHs",
        "outputId": "3ffbb918-61c9-4a44-ab77-b00cfa4594ec"
      },
      "source": [
        "y_train.head(3)"
      ],
      "execution_count": 70,
      "outputs": [
        {
          "output_type": "execute_result",
          "data": {
            "text/plain": [
              "2    1.10\n",
              "3    1.11\n",
              "4    1.12\n",
              "Name: Último, dtype: float64"
            ]
          },
          "metadata": {},
          "execution_count": 70
        }
      ]
    },
    {
      "cell_type": "code",
      "metadata": {
        "colab": {
          "base_uri": "https://localhost:8080/"
        },
        "id": "0mVE91KWItOp",
        "outputId": "a187b37a-1dc2-4e3b-ed12-9fc0d667d832"
      },
      "source": [
        "X_train.shape, y_train.shape, X_test.shape, y_test.shape"
      ],
      "execution_count": 71,
      "outputs": [
        {
          "output_type": "execute_result",
          "data": {
            "text/plain": [
              "((3705, 15), (3705,), (313, 15), (313,))"
            ]
          },
          "metadata": {},
          "execution_count": 71
        }
      ]
    },
    {
      "cell_type": "code",
      "metadata": {
        "colab": {
          "base_uri": "https://localhost:8080/"
        },
        "id": "b7sDLUFWJ44n",
        "outputId": "113e9dde-b77f-4741-eab1-9f95b5c30662"
      },
      "source": [
        "!pip install feature_engine"
      ],
      "execution_count": 72,
      "outputs": [
        {
          "output_type": "stream",
          "name": "stdout",
          "text": [
            "Requirement already satisfied: feature_engine in /usr/local/lib/python3.7/dist-packages (1.1.2)\n",
            "Requirement already satisfied: scikit-learn>=0.22.2 in /usr/local/lib/python3.7/dist-packages (from feature_engine) (0.22.2.post1)\n",
            "Requirement already satisfied: numpy>=1.18.2 in /usr/local/lib/python3.7/dist-packages (from feature_engine) (1.19.5)\n",
            "Requirement already satisfied: pandas>=1.0.3 in /usr/local/lib/python3.7/dist-packages (from feature_engine) (1.1.5)\n",
            "Requirement already satisfied: scipy>=1.4.1 in /usr/local/lib/python3.7/dist-packages (from feature_engine) (1.4.1)\n",
            "Requirement already satisfied: statsmodels>=0.11.1 in /usr/local/lib/python3.7/dist-packages (from feature_engine) (0.13.0)\n",
            "Requirement already satisfied: python-dateutil>=2.7.3 in /usr/local/lib/python3.7/dist-packages (from pandas>=1.0.3->feature_engine) (2.8.2)\n",
            "Requirement already satisfied: pytz>=2017.2 in /usr/local/lib/python3.7/dist-packages (from pandas>=1.0.3->feature_engine) (2018.9)\n",
            "Requirement already satisfied: six>=1.5 in /usr/local/lib/python3.7/dist-packages (from python-dateutil>=2.7.3->pandas>=1.0.3->feature_engine) (1.15.0)\n",
            "Requirement already satisfied: joblib>=0.11 in /usr/local/lib/python3.7/dist-packages (from scikit-learn>=0.22.2->feature_engine) (1.0.1)\n",
            "Requirement already satisfied: patsy>=0.5.2 in /usr/local/lib/python3.7/dist-packages (from statsmodels>=0.11.1->feature_engine) (0.5.2)\n"
          ]
        }
      ]
    },
    {
      "cell_type": "code",
      "metadata": {
        "id": "L9-hJZxeJ7qV"
      },
      "source": [
        "from sklearn.preprocessing import StandardScaler\n",
        "from feature_engine.wrappers import SklearnTransformerWrapper\n",
        "from sklearn.pipeline import Pipeline\n",
        "from sklearn.metrics import mean_absolute_error, mean_squared_error, mean_squared_log_error      \n",
        "from sklearn.metrics import median_absolute_error, r2_score\n",
        "import numpy"
      ],
      "execution_count": 73,
      "outputs": []
    },
    {
      "cell_type": "markdown",
      "metadata": {
        "id": "4C3yno3cLFAZ"
      },
      "source": [
        "# Função para comparar os resultados dos modelos"
      ]
    },
    {
      "cell_type": "code",
      "metadata": {
        "id": "15Ve-HcjLBXu"
      },
      "source": [
        "# Função para \n",
        "\n",
        "\n",
        "def log_results(modelo_objeto, nome_modelo, X_train, X_test, y_train, y_test):\n",
        "    \n",
        "    def adjusted_r2 (yt,ypt,Xt):                                        # Função r2 ajustado\n",
        "      r2          = r2_score(yt,ypt)\n",
        "      N           = len(yt)\n",
        "      p           = Xt.shape[1]\n",
        "      r2_ajustado = (1-((1-r2)*(N-1))/(N-p-1))\n",
        "      return r2_ajustado\n",
        "   \n",
        "    def mape(yt, ypt):                                                   # Função MAPE\n",
        "       mape = np.mean(np.abs((yt-ypt)/yt))\n",
        "       return (mape)\n",
        "\n",
        "# avaliando o Treino \n",
        "    y_pred_train      = modelo_objeto.predict(X_train)    \n",
        "    r2_train          = round(r2_score(y_train, y_pred_train),3)                        # r2    \n",
        "    r2_ajustado_train = round(adjusted_r2 (y_train,y_pred_train, X_train),3)            # r2 ajustado       \n",
        "    mse_train         = round(mean_squared_error (y_train,y_pred_train),2)              # mse\n",
        "    rmse_train        = round(np.sqrt(mse_train),2)                                     # RMSE   \n",
        "    rmsle_train       = round(np.sqrt(mean_squared_log_error(y_train, y_pred_train)),3) # RMSLE    \n",
        "    mae_train         = round(mean_absolute_error(y_train, y_pred_train),2)             # MAE   \n",
        "    medae_train       = round(median_absolute_error(y_train, y_pred_train),2)           # MedAE  \n",
        "    mape_train        = round(mape(y_train, y_pred_train),3)                            # MAPE\n",
        "\n",
        "                    \n",
        "# Avaliando teste\n",
        "    y_pred_test = modelo_objeto.predict(X_test)   \n",
        "    r2          = round(r2_score(y_test, y_pred_test),3)                                # r2    \n",
        "    r2_ajustado = round(adjusted_r2 (y_test,y_pred_test, X_test),3)                     # r2 ajustado   \n",
        "    mse         = round(mean_squared_error (y_test,y_pred_test),2)                      # mse\n",
        "    rmse        = round(np.sqrt(mse),2)                                                 # RMSE    \n",
        "    rmsle       = round(np.sqrt(mean_squared_log_error(y_test, y_pred_test)),3)         # RMSLE    \n",
        "    mae         = round(mean_absolute_error(y_test, y_pred_test),2)                     # MAE\n",
        "    medae       = round(median_absolute_error(y_test, y_pred_test),2)                   # MedAE    \n",
        "    mape        = round(mape(y_test, y_pred_test),3)                                    # MAPE\n",
        "\n",
        " \n",
        "    results=[]\n",
        "    results.append([nome_modelo,'treino',r2_train,r2_ajustado_train,mse_train,rmse_train,rmsle_train,mae_train,medae_train,mape_train])\n",
        "    results.append([nome_modelo,'teste',r2,r2_ajustado,mse,rmse,rmsle,mae,medae,mape])\n",
        "    df_results = pd.DataFrame(results, columns=['nome_modelo','modo','r2','r2_ajustado','mse','rmse','rmsle','mae','medae','mape'])\n",
        "    return df_results\n"
      ],
      "execution_count": 74,
      "outputs": []
    },
    {
      "cell_type": "markdown",
      "metadata": {
        "id": "HjvknFE6K78I"
      },
      "source": [
        "# Regressão Linear\n"
      ]
    },
    {
      "cell_type": "code",
      "metadata": {
        "id": "Nwb77E8DRkct"
      },
      "source": [
        "from sklearn.linear_model import LinearRegression"
      ],
      "execution_count": 75,
      "outputs": []
    },
    {
      "cell_type": "code",
      "metadata": {
        "colab": {
          "base_uri": "https://localhost:8080/"
        },
        "id": "T-aX8gS86Nor",
        "outputId": "4949176d-7a13-4228-92d0-262649184706"
      },
      "source": [
        "print(X_train.info())"
      ],
      "execution_count": 76,
      "outputs": [
        {
          "output_type": "stream",
          "name": "stdout",
          "text": [
            "<class 'pandas.core.frame.DataFrame'>\n",
            "Int64Index: 3705 entries, 2 to 3706\n",
            "Data columns (total 15 columns):\n",
            " #   Column          Non-Null Count  Dtype  \n",
            "---  ------          --------------  -----  \n",
            " 0   Abertura        3705 non-null   float64\n",
            " 1   Máxima          3705 non-null   float64\n",
            " 2   Mínima          3705 non-null   float64\n",
            " 3   Vol.            3705 non-null   float64\n",
            " 4   Var%            3705 non-null   float64\n",
            " 5   ibov            3705 non-null   float64\n",
            " 6   usd             3705 non-null   float64\n",
            " 7   mês             3705 non-null   int64  \n",
            " 8   dia             3705 non-null   int64  \n",
            " 9   weekday         3705 non-null   int64  \n",
            " 10  dayofyear       3705 non-null   int64  \n",
            " 11  valor_atual     3705 non-null   float64\n",
            " 12  valor_anterior  3705 non-null   float64\n",
            " 13  diff_valor      3705 non-null   float64\n",
            " 14  media_mov       3705 non-null   float64\n",
            "dtypes: float64(11), int64(4)\n",
            "memory usage: 463.1 KB\n",
            "None\n"
          ]
        }
      ]
    },
    {
      "cell_type": "code",
      "metadata": {
        "colab": {
          "base_uri": "https://localhost:8080/"
        },
        "id": "3mnsID8Y6YPB",
        "outputId": "c2eb1705-24cf-4148-873d-89afa6ca238d"
      },
      "source": [
        "print(X_test.info())"
      ],
      "execution_count": 77,
      "outputs": [
        {
          "output_type": "stream",
          "name": "stdout",
          "text": [
            "<class 'pandas.core.frame.DataFrame'>\n",
            "Int64Index: 313 entries, 2 to 314\n",
            "Data columns (total 15 columns):\n",
            " #   Column          Non-Null Count  Dtype  \n",
            "---  ------          --------------  -----  \n",
            " 0   Abertura        313 non-null    float64\n",
            " 1   Máxima          313 non-null    float64\n",
            " 2   Mínima          313 non-null    float64\n",
            " 3   Vol.            313 non-null    float64\n",
            " 4   Var%            313 non-null    float64\n",
            " 5   ibov            313 non-null    float64\n",
            " 6   usd             313 non-null    float64\n",
            " 7   mês             313 non-null    int64  \n",
            " 8   dia             313 non-null    int64  \n",
            " 9   weekday         313 non-null    int64  \n",
            " 10  dayofyear       313 non-null    int64  \n",
            " 11  valor_atual     313 non-null    float64\n",
            " 12  valor_anterior  313 non-null    float64\n",
            " 13  diff_valor      313 non-null    float64\n",
            " 14  media_mov       313 non-null    float64\n",
            "dtypes: float64(11), int64(4)\n",
            "memory usage: 39.1 KB\n",
            "None\n"
          ]
        }
      ]
    },
    {
      "cell_type": "code",
      "metadata": {
        "id": "IGOyedJKKAFX"
      },
      "source": [
        "lr_model = Pipeline(steps=[\n",
        "        ('standard_scaler',SklearnTransformerWrapper(transformer=StandardScaler(),variables=num_vars)),\n",
        "        ('linear_reg', LinearRegression())\n",
        "])"
      ],
      "execution_count": 78,
      "outputs": []
    },
    {
      "cell_type": "code",
      "metadata": {
        "colab": {
          "base_uri": "https://localhost:8080/"
        },
        "id": "kOkhhjBY8dZN",
        "outputId": "8998164f-4707-404c-9037-6f4292aa5643"
      },
      "source": [
        "# Execute para criar o modelo\n",
        "lr_model.fit(X_train, y_train)"
      ],
      "execution_count": 79,
      "outputs": [
        {
          "output_type": "execute_result",
          "data": {
            "text/plain": [
              "Pipeline(memory=None,\n",
              "         steps=[('standard_scaler',\n",
              "                 SklearnTransformerWrapper(transformer=StandardScaler(copy=True,\n",
              "                                                                      with_mean=True,\n",
              "                                                                      with_std=True),\n",
              "                                           variables=['Abertura', 'Máxima',\n",
              "                                                      'Mínima', 'Vol.', 'Var%',\n",
              "                                                      'ibov', 'usd', 'mês',\n",
              "                                                      'dia', 'weekday',\n",
              "                                                      'dayofyear',\n",
              "                                                      'valor_atual',\n",
              "                                                      'valor_anterior',\n",
              "                                                      'diff_valor',\n",
              "                                                      'media_mov'])),\n",
              "                ('linear_reg',\n",
              "                 LinearRegression(copy_X=True, fit_intercept=True, n_jobs=None,\n",
              "                                  normalize=False))],\n",
              "         verbose=False)"
            ]
          },
          "metadata": {},
          "execution_count": 79
        }
      ]
    },
    {
      "cell_type": "code",
      "metadata": {
        "colab": {
          "base_uri": "https://localhost:8080/",
          "height": 111
        },
        "id": "zqbX_tOokHYZ",
        "outputId": "b2537011-56b8-44e5-e8a0-e4ea89ad3019"
      },
      "source": [
        "lr_results = log_results(lr_model, 'Regressão Linear', X_train, X_test, y_train, y_test)\n",
        "lr_results"
      ],
      "execution_count": 80,
      "outputs": [
        {
          "output_type": "execute_result",
          "data": {
            "text/html": [
              "<div>\n",
              "<style scoped>\n",
              "    .dataframe tbody tr th:only-of-type {\n",
              "        vertical-align: middle;\n",
              "    }\n",
              "\n",
              "    .dataframe tbody tr th {\n",
              "        vertical-align: top;\n",
              "    }\n",
              "\n",
              "    .dataframe thead th {\n",
              "        text-align: right;\n",
              "    }\n",
              "</style>\n",
              "<table border=\"1\" class=\"dataframe\">\n",
              "  <thead>\n",
              "    <tr style=\"text-align: right;\">\n",
              "      <th></th>\n",
              "      <th>nome_modelo</th>\n",
              "      <th>modo</th>\n",
              "      <th>r2</th>\n",
              "      <th>r2_ajustado</th>\n",
              "      <th>mse</th>\n",
              "      <th>rmse</th>\n",
              "      <th>rmsle</th>\n",
              "      <th>mae</th>\n",
              "      <th>medae</th>\n",
              "      <th>mape</th>\n",
              "    </tr>\n",
              "  </thead>\n",
              "  <tbody>\n",
              "    <tr>\n",
              "      <th>0</th>\n",
              "      <td>Regressão Linear</td>\n",
              "      <td>treino</td>\n",
              "      <td>1.0</td>\n",
              "      <td>1.0</td>\n",
              "      <td>0.0</td>\n",
              "      <td>0.0</td>\n",
              "      <td>0.0</td>\n",
              "      <td>0.0</td>\n",
              "      <td>0.0</td>\n",
              "      <td>0.0</td>\n",
              "    </tr>\n",
              "    <tr>\n",
              "      <th>1</th>\n",
              "      <td>Regressão Linear</td>\n",
              "      <td>teste</td>\n",
              "      <td>1.0</td>\n",
              "      <td>1.0</td>\n",
              "      <td>0.0</td>\n",
              "      <td>0.0</td>\n",
              "      <td>0.0</td>\n",
              "      <td>0.0</td>\n",
              "      <td>0.0</td>\n",
              "      <td>0.0</td>\n",
              "    </tr>\n",
              "  </tbody>\n",
              "</table>\n",
              "</div>"
            ],
            "text/plain": [
              "        nome_modelo    modo   r2  r2_ajustado  ...  rmsle  mae  medae  mape\n",
              "0  Regressão Linear  treino  1.0          1.0  ...    0.0  0.0    0.0   0.0\n",
              "1  Regressão Linear   teste  1.0          1.0  ...    0.0  0.0    0.0   0.0\n",
              "\n",
              "[2 rows x 10 columns]"
            ]
          },
          "metadata": {},
          "execution_count": 80
        }
      ]
    },
    {
      "cell_type": "markdown",
      "metadata": {
        "id": "wlAqeck0Kx11"
      },
      "source": [
        "# Ridge"
      ]
    },
    {
      "cell_type": "code",
      "metadata": {
        "id": "zMRU7SwhRi2G"
      },
      "source": [
        "from sklearn.linear_model import Ridge"
      ],
      "execution_count": 81,
      "outputs": []
    },
    {
      "cell_type": "code",
      "metadata": {
        "id": "a6FUZ77cKGP5",
        "colab": {
          "base_uri": "https://localhost:8080/",
          "height": 111
        },
        "outputId": "f2319081-9bbd-4bec-ac3b-fcb076cdedc4"
      },
      "source": [
        "\n",
        "# criando o Pipeline do modelo Ridge\n",
        "ridge_model = Pipeline(steps=[\n",
        "    ('standart_scaler', SklearnTransformerWrapper(transformer=StandardScaler(),variables=num_vars)),\n",
        "    ('ridge_reg',Ridge())\n",
        "])\n",
        "#Treinando o modelo\n",
        "ridge_model.fit(X_train,y_train)\n",
        "# aplicando a função\n",
        "ridge_results = log_results(ridge_model, 'Ridge', X_train, X_test, y_train, y_test)\n",
        "ridge_results"
      ],
      "execution_count": 82,
      "outputs": [
        {
          "output_type": "execute_result",
          "data": {
            "text/html": [
              "<div>\n",
              "<style scoped>\n",
              "    .dataframe tbody tr th:only-of-type {\n",
              "        vertical-align: middle;\n",
              "    }\n",
              "\n",
              "    .dataframe tbody tr th {\n",
              "        vertical-align: top;\n",
              "    }\n",
              "\n",
              "    .dataframe thead th {\n",
              "        text-align: right;\n",
              "    }\n",
              "</style>\n",
              "<table border=\"1\" class=\"dataframe\">\n",
              "  <thead>\n",
              "    <tr style=\"text-align: right;\">\n",
              "      <th></th>\n",
              "      <th>nome_modelo</th>\n",
              "      <th>modo</th>\n",
              "      <th>r2</th>\n",
              "      <th>r2_ajustado</th>\n",
              "      <th>mse</th>\n",
              "      <th>rmse</th>\n",
              "      <th>rmsle</th>\n",
              "      <th>mae</th>\n",
              "      <th>medae</th>\n",
              "      <th>mape</th>\n",
              "    </tr>\n",
              "  </thead>\n",
              "  <tbody>\n",
              "    <tr>\n",
              "      <th>0</th>\n",
              "      <td>Ridge</td>\n",
              "      <td>treino</td>\n",
              "      <td>1.000</td>\n",
              "      <td>1.000</td>\n",
              "      <td>0.00</td>\n",
              "      <td>0.0</td>\n",
              "      <td>0.006</td>\n",
              "      <td>0.02</td>\n",
              "      <td>0.02</td>\n",
              "      <td>0.006</td>\n",
              "    </tr>\n",
              "    <tr>\n",
              "      <th>1</th>\n",
              "      <td>Ridge</td>\n",
              "      <td>teste</td>\n",
              "      <td>0.996</td>\n",
              "      <td>0.995</td>\n",
              "      <td>0.01</td>\n",
              "      <td>0.1</td>\n",
              "      <td>0.008</td>\n",
              "      <td>0.07</td>\n",
              "      <td>0.06</td>\n",
              "      <td>0.007</td>\n",
              "    </tr>\n",
              "  </tbody>\n",
              "</table>\n",
              "</div>"
            ],
            "text/plain": [
              "  nome_modelo    modo     r2  r2_ajustado  ...  rmsle   mae  medae   mape\n",
              "0       Ridge  treino  1.000        1.000  ...  0.006  0.02   0.02  0.006\n",
              "1       Ridge   teste  0.996        0.995  ...  0.008  0.07   0.06  0.007\n",
              "\n",
              "[2 rows x 10 columns]"
            ]
          },
          "metadata": {},
          "execution_count": 82
        }
      ]
    },
    {
      "cell_type": "markdown",
      "metadata": {
        "id": "DG6TIH1uKsmK"
      },
      "source": [
        "# Árvore de decisão"
      ]
    },
    {
      "cell_type": "code",
      "metadata": {
        "id": "Hy5Bl-mpRhIy"
      },
      "source": [
        "from sklearn.tree import  DecisionTreeRegressor"
      ],
      "execution_count": 83,
      "outputs": []
    },
    {
      "cell_type": "code",
      "metadata": {
        "id": "ivVIW7BqKVhv",
        "colab": {
          "base_uri": "https://localhost:8080/",
          "height": 111
        },
        "outputId": "6c8d0479-2df3-4f3d-94ca-8f93a95fba9f"
      },
      "source": [
        "#criando o pipeline do modelo árvore de decisão\n",
        "tree_model = Pipeline(steps=[\n",
        "    ('decision_tree', DecisionTreeRegressor(random_state=30, max_depth=3))\n",
        "])\n",
        "# treinando o modelo\n",
        "tree_model.fit(X_train, y_train)\n",
        "tree_results = log_results(tree_model, 'Decision Tree', X_train, X_test, y_train, y_test)\n",
        "tree_results"
      ],
      "execution_count": 84,
      "outputs": [
        {
          "output_type": "execute_result",
          "data": {
            "text/html": [
              "<div>\n",
              "<style scoped>\n",
              "    .dataframe tbody tr th:only-of-type {\n",
              "        vertical-align: middle;\n",
              "    }\n",
              "\n",
              "    .dataframe tbody tr th {\n",
              "        vertical-align: top;\n",
              "    }\n",
              "\n",
              "    .dataframe thead th {\n",
              "        text-align: right;\n",
              "    }\n",
              "</style>\n",
              "<table border=\"1\" class=\"dataframe\">\n",
              "  <thead>\n",
              "    <tr style=\"text-align: right;\">\n",
              "      <th></th>\n",
              "      <th>nome_modelo</th>\n",
              "      <th>modo</th>\n",
              "      <th>r2</th>\n",
              "      <th>r2_ajustado</th>\n",
              "      <th>mse</th>\n",
              "      <th>rmse</th>\n",
              "      <th>rmsle</th>\n",
              "      <th>mae</th>\n",
              "      <th>medae</th>\n",
              "      <th>mape</th>\n",
              "    </tr>\n",
              "  </thead>\n",
              "  <tbody>\n",
              "    <tr>\n",
              "      <th>0</th>\n",
              "      <td>Decision Tree</td>\n",
              "      <td>treino</td>\n",
              "      <td>0.981</td>\n",
              "      <td>0.980</td>\n",
              "      <td>0.16</td>\n",
              "      <td>0.40</td>\n",
              "      <td>0.088</td>\n",
              "      <td>0.33</td>\n",
              "      <td>0.30</td>\n",
              "      <td>0.096</td>\n",
              "    </tr>\n",
              "    <tr>\n",
              "      <th>1</th>\n",
              "      <td>Decision Tree</td>\n",
              "      <td>teste</td>\n",
              "      <td>0.810</td>\n",
              "      <td>0.801</td>\n",
              "      <td>0.30</td>\n",
              "      <td>0.55</td>\n",
              "      <td>0.050</td>\n",
              "      <td>0.46</td>\n",
              "      <td>0.44</td>\n",
              "      <td>0.046</td>\n",
              "    </tr>\n",
              "  </tbody>\n",
              "</table>\n",
              "</div>"
            ],
            "text/plain": [
              "     nome_modelo    modo     r2  r2_ajustado  ...  rmsle   mae  medae   mape\n",
              "0  Decision Tree  treino  0.981        0.980  ...  0.088  0.33   0.30  0.096\n",
              "1  Decision Tree   teste  0.810        0.801  ...  0.050  0.46   0.44  0.046\n",
              "\n",
              "[2 rows x 10 columns]"
            ]
          },
          "metadata": {},
          "execution_count": 84
        }
      ]
    },
    {
      "cell_type": "markdown",
      "metadata": {
        "id": "kbRZiCjuKnlV"
      },
      "source": [
        "# Treinando Random Forrest\n"
      ]
    },
    {
      "cell_type": "code",
      "metadata": {
        "id": "eL2ert3ZRfKS"
      },
      "source": [
        "from sklearn.ensemble import RandomForestRegressor"
      ],
      "execution_count": 85,
      "outputs": []
    },
    {
      "cell_type": "code",
      "metadata": {
        "id": "MYbIoTcbKb77",
        "colab": {
          "base_uri": "https://localhost:8080/",
          "height": 111
        },
        "outputId": "804c0f61-2642-4dd4-99fc-71f2a2daa079"
      },
      "source": [
        "\n",
        "\n",
        "rf_model = Pipeline(steps=[                          \n",
        "    ('random_forrest', RandomForestRegressor(random_state=30, max_depth=3))\n",
        "])\n",
        "#treinando o modelo\n",
        "rf_model.fit(X_train, y_train)\n",
        "rf_results= log_results(rf_model, 'Random Forest', X_train, X_test, y_train, y_test)\n",
        "rf_results"
      ],
      "execution_count": 86,
      "outputs": [
        {
          "output_type": "execute_result",
          "data": {
            "text/html": [
              "<div>\n",
              "<style scoped>\n",
              "    .dataframe tbody tr th:only-of-type {\n",
              "        vertical-align: middle;\n",
              "    }\n",
              "\n",
              "    .dataframe tbody tr th {\n",
              "        vertical-align: top;\n",
              "    }\n",
              "\n",
              "    .dataframe thead th {\n",
              "        text-align: right;\n",
              "    }\n",
              "</style>\n",
              "<table border=\"1\" class=\"dataframe\">\n",
              "  <thead>\n",
              "    <tr style=\"text-align: right;\">\n",
              "      <th></th>\n",
              "      <th>nome_modelo</th>\n",
              "      <th>modo</th>\n",
              "      <th>r2</th>\n",
              "      <th>r2_ajustado</th>\n",
              "      <th>mse</th>\n",
              "      <th>rmse</th>\n",
              "      <th>rmsle</th>\n",
              "      <th>mae</th>\n",
              "      <th>medae</th>\n",
              "      <th>mape</th>\n",
              "    </tr>\n",
              "  </thead>\n",
              "  <tbody>\n",
              "    <tr>\n",
              "      <th>0</th>\n",
              "      <td>Random Forest</td>\n",
              "      <td>treino</td>\n",
              "      <td>0.983</td>\n",
              "      <td>0.983</td>\n",
              "      <td>0.13</td>\n",
              "      <td>0.36</td>\n",
              "      <td>0.084</td>\n",
              "      <td>0.30</td>\n",
              "      <td>0.28</td>\n",
              "      <td>0.091</td>\n",
              "    </tr>\n",
              "    <tr>\n",
              "      <th>1</th>\n",
              "      <td>Random Forest</td>\n",
              "      <td>teste</td>\n",
              "      <td>0.856</td>\n",
              "      <td>0.848</td>\n",
              "      <td>0.23</td>\n",
              "      <td>0.48</td>\n",
              "      <td>0.043</td>\n",
              "      <td>0.41</td>\n",
              "      <td>0.40</td>\n",
              "      <td>0.040</td>\n",
              "    </tr>\n",
              "  </tbody>\n",
              "</table>\n",
              "</div>"
            ],
            "text/plain": [
              "     nome_modelo    modo     r2  r2_ajustado  ...  rmsle   mae  medae   mape\n",
              "0  Random Forest  treino  0.983        0.983  ...  0.084  0.30   0.28  0.091\n",
              "1  Random Forest   teste  0.856        0.848  ...  0.043  0.41   0.40  0.040\n",
              "\n",
              "[2 rows x 10 columns]"
            ]
          },
          "metadata": {},
          "execution_count": 86
        }
      ]
    },
    {
      "cell_type": "markdown",
      "metadata": {
        "id": "5fC0WzmSLR6z"
      },
      "source": [
        "# LGBM"
      ]
    },
    {
      "cell_type": "code",
      "metadata": {
        "id": "pYVuTajeRdr1"
      },
      "source": [
        "from lightgbm import LGBMRegressor"
      ],
      "execution_count": 87,
      "outputs": []
    },
    {
      "cell_type": "code",
      "metadata": {
        "id": "a8KFqHAyKh_L",
        "colab": {
          "base_uri": "https://localhost:8080/",
          "height": 111
        },
        "outputId": "0f37dce8-f450-4d4e-8cd9-f7cefe1a8f55"
      },
      "source": [
        "\n",
        "#criando pipeline do modelo LGBM\n",
        "lgbm_model = Pipeline (steps=[\n",
        "    ('lgbm', LGBMRegressor(random_state=30))\n",
        "])\n",
        "#treinando o modelo\n",
        "lgbm_model.fit(X_train, y_train)\n",
        "lgbm_results = log_results(lgbm_model, 'LGMB Regression', X_train, X_test, y_train, y_test)\n",
        "lgbm_results"
      ],
      "execution_count": 88,
      "outputs": [
        {
          "output_type": "execute_result",
          "data": {
            "text/html": [
              "<div>\n",
              "<style scoped>\n",
              "    .dataframe tbody tr th:only-of-type {\n",
              "        vertical-align: middle;\n",
              "    }\n",
              "\n",
              "    .dataframe tbody tr th {\n",
              "        vertical-align: top;\n",
              "    }\n",
              "\n",
              "    .dataframe thead th {\n",
              "        text-align: right;\n",
              "    }\n",
              "</style>\n",
              "<table border=\"1\" class=\"dataframe\">\n",
              "  <thead>\n",
              "    <tr style=\"text-align: right;\">\n",
              "      <th></th>\n",
              "      <th>nome_modelo</th>\n",
              "      <th>modo</th>\n",
              "      <th>r2</th>\n",
              "      <th>r2_ajustado</th>\n",
              "      <th>mse</th>\n",
              "      <th>rmse</th>\n",
              "      <th>rmsle</th>\n",
              "      <th>mae</th>\n",
              "      <th>medae</th>\n",
              "      <th>mape</th>\n",
              "    </tr>\n",
              "  </thead>\n",
              "  <tbody>\n",
              "    <tr>\n",
              "      <th>0</th>\n",
              "      <td>LGMB Regression</td>\n",
              "      <td>treino</td>\n",
              "      <td>1.00</td>\n",
              "      <td>1.00</td>\n",
              "      <td>0.00</td>\n",
              "      <td>0.00</td>\n",
              "      <td>0.004</td>\n",
              "      <td>0.02</td>\n",
              "      <td>0.01</td>\n",
              "      <td>0.004</td>\n",
              "    </tr>\n",
              "    <tr>\n",
              "      <th>1</th>\n",
              "      <td>LGMB Regression</td>\n",
              "      <td>teste</td>\n",
              "      <td>0.99</td>\n",
              "      <td>0.99</td>\n",
              "      <td>0.02</td>\n",
              "      <td>0.14</td>\n",
              "      <td>0.011</td>\n",
              "      <td>0.10</td>\n",
              "      <td>0.09</td>\n",
              "      <td>0.010</td>\n",
              "    </tr>\n",
              "  </tbody>\n",
              "</table>\n",
              "</div>"
            ],
            "text/plain": [
              "       nome_modelo    modo    r2  r2_ajustado  ...  rmsle   mae  medae   mape\n",
              "0  LGMB Regression  treino  1.00         1.00  ...  0.004  0.02   0.01  0.004\n",
              "1  LGMB Regression   teste  0.99         0.99  ...  0.011  0.10   0.09  0.010\n",
              "\n",
              "[2 rows x 10 columns]"
            ]
          },
          "metadata": {},
          "execution_count": 88
        }
      ]
    },
    {
      "cell_type": "markdown",
      "metadata": {
        "id": "JeiimqBkLTvE"
      },
      "source": [
        "# XGBoost"
      ]
    },
    {
      "cell_type": "code",
      "metadata": {
        "id": "9oNaINInRbYl"
      },
      "source": [
        "from xgboost import XGBRegressor\n"
      ],
      "execution_count": 89,
      "outputs": []
    },
    {
      "cell_type": "code",
      "metadata": {
        "id": "p7bEicKfLX9q",
        "colab": {
          "base_uri": "https://localhost:8080/",
          "height": 129
        },
        "outputId": "219fdef7-c697-49fc-a717-7040de14306a"
      },
      "source": [
        "\n",
        "#Criando pipeline do modelo\n",
        "xgb_model = Pipeline (steps=[\n",
        "    ('xgb', XGBRegressor(random_state=30))\n",
        "])\n",
        "#treinando o modelo\n",
        "xgb_model.fit(X_train,y_train)\n",
        "xgb_results = log_results(xgb_model,'XGBoost', X_train, X_test, y_train, y_test)\n",
        "xgb_results\n"
      ],
      "execution_count": 90,
      "outputs": [
        {
          "output_type": "stream",
          "name": "stdout",
          "text": [
            "[01:08:37] WARNING: /workspace/src/objective/regression_obj.cu:152: reg:linear is now deprecated in favor of reg:squarederror.\n"
          ]
        },
        {
          "output_type": "execute_result",
          "data": {
            "text/html": [
              "<div>\n",
              "<style scoped>\n",
              "    .dataframe tbody tr th:only-of-type {\n",
              "        vertical-align: middle;\n",
              "    }\n",
              "\n",
              "    .dataframe tbody tr th {\n",
              "        vertical-align: top;\n",
              "    }\n",
              "\n",
              "    .dataframe thead th {\n",
              "        text-align: right;\n",
              "    }\n",
              "</style>\n",
              "<table border=\"1\" class=\"dataframe\">\n",
              "  <thead>\n",
              "    <tr style=\"text-align: right;\">\n",
              "      <th></th>\n",
              "      <th>nome_modelo</th>\n",
              "      <th>modo</th>\n",
              "      <th>r2</th>\n",
              "      <th>r2_ajustado</th>\n",
              "      <th>mse</th>\n",
              "      <th>rmse</th>\n",
              "      <th>rmsle</th>\n",
              "      <th>mae</th>\n",
              "      <th>medae</th>\n",
              "      <th>mape</th>\n",
              "    </tr>\n",
              "  </thead>\n",
              "  <tbody>\n",
              "    <tr>\n",
              "      <th>0</th>\n",
              "      <td>XGBoost</td>\n",
              "      <td>treino</td>\n",
              "      <td>1.00</td>\n",
              "      <td>1.000</td>\n",
              "      <td>0.00</td>\n",
              "      <td>0.00</td>\n",
              "      <td>0.006</td>\n",
              "      <td>0.02</td>\n",
              "      <td>0.02</td>\n",
              "      <td>0.006</td>\n",
              "    </tr>\n",
              "    <tr>\n",
              "      <th>1</th>\n",
              "      <td>XGBoost</td>\n",
              "      <td>teste</td>\n",
              "      <td>0.99</td>\n",
              "      <td>0.989</td>\n",
              "      <td>0.02</td>\n",
              "      <td>0.14</td>\n",
              "      <td>0.012</td>\n",
              "      <td>0.10</td>\n",
              "      <td>0.09</td>\n",
              "      <td>0.011</td>\n",
              "    </tr>\n",
              "  </tbody>\n",
              "</table>\n",
              "</div>"
            ],
            "text/plain": [
              "  nome_modelo    modo    r2  r2_ajustado   mse  rmse  rmsle   mae  medae   mape\n",
              "0     XGBoost  treino  1.00        1.000  0.00  0.00  0.006  0.02   0.02  0.006\n",
              "1     XGBoost   teste  0.99        0.989  0.02  0.14  0.012  0.10   0.09  0.011"
            ]
          },
          "metadata": {},
          "execution_count": 90
        }
      ]
    },
    {
      "cell_type": "markdown",
      "metadata": {
        "id": "a93RtHQJq5Bx"
      },
      "source": [
        "# Comparando os modelos\n"
      ]
    },
    {
      "cell_type": "code",
      "metadata": {
        "id": "Z4uBA3k2Lfs6"
      },
      "source": [
        "model_results = pd.concat([lr_results,ridge_results,tree_results, rf_results, lgbm_results,xgb_results])"
      ],
      "execution_count": 91,
      "outputs": []
    },
    {
      "cell_type": "code",
      "metadata": {
        "id": "WsVbY-4PLgS4",
        "colab": {
          "base_uri": "https://localhost:8080/",
          "height": 420
        },
        "outputId": "d2102bfd-e416-421d-e0f0-a80b00170074"
      },
      "source": [
        "model_results.sort_values(by=['modo','r2_ajustado'], ascending=False)"
      ],
      "execution_count": 92,
      "outputs": [
        {
          "output_type": "execute_result",
          "data": {
            "text/html": [
              "<div>\n",
              "<style scoped>\n",
              "    .dataframe tbody tr th:only-of-type {\n",
              "        vertical-align: middle;\n",
              "    }\n",
              "\n",
              "    .dataframe tbody tr th {\n",
              "        vertical-align: top;\n",
              "    }\n",
              "\n",
              "    .dataframe thead th {\n",
              "        text-align: right;\n",
              "    }\n",
              "</style>\n",
              "<table border=\"1\" class=\"dataframe\">\n",
              "  <thead>\n",
              "    <tr style=\"text-align: right;\">\n",
              "      <th></th>\n",
              "      <th>nome_modelo</th>\n",
              "      <th>modo</th>\n",
              "      <th>r2</th>\n",
              "      <th>r2_ajustado</th>\n",
              "      <th>mse</th>\n",
              "      <th>rmse</th>\n",
              "      <th>rmsle</th>\n",
              "      <th>mae</th>\n",
              "      <th>medae</th>\n",
              "      <th>mape</th>\n",
              "    </tr>\n",
              "  </thead>\n",
              "  <tbody>\n",
              "    <tr>\n",
              "      <th>0</th>\n",
              "      <td>Regressão Linear</td>\n",
              "      <td>treino</td>\n",
              "      <td>1.000</td>\n",
              "      <td>1.000</td>\n",
              "      <td>0.00</td>\n",
              "      <td>0.00</td>\n",
              "      <td>0.000</td>\n",
              "      <td>0.00</td>\n",
              "      <td>0.00</td>\n",
              "      <td>0.000</td>\n",
              "    </tr>\n",
              "    <tr>\n",
              "      <th>0</th>\n",
              "      <td>Ridge</td>\n",
              "      <td>treino</td>\n",
              "      <td>1.000</td>\n",
              "      <td>1.000</td>\n",
              "      <td>0.00</td>\n",
              "      <td>0.00</td>\n",
              "      <td>0.006</td>\n",
              "      <td>0.02</td>\n",
              "      <td>0.02</td>\n",
              "      <td>0.006</td>\n",
              "    </tr>\n",
              "    <tr>\n",
              "      <th>0</th>\n",
              "      <td>LGMB Regression</td>\n",
              "      <td>treino</td>\n",
              "      <td>1.000</td>\n",
              "      <td>1.000</td>\n",
              "      <td>0.00</td>\n",
              "      <td>0.00</td>\n",
              "      <td>0.004</td>\n",
              "      <td>0.02</td>\n",
              "      <td>0.01</td>\n",
              "      <td>0.004</td>\n",
              "    </tr>\n",
              "    <tr>\n",
              "      <th>0</th>\n",
              "      <td>XGBoost</td>\n",
              "      <td>treino</td>\n",
              "      <td>1.000</td>\n",
              "      <td>1.000</td>\n",
              "      <td>0.00</td>\n",
              "      <td>0.00</td>\n",
              "      <td>0.006</td>\n",
              "      <td>0.02</td>\n",
              "      <td>0.02</td>\n",
              "      <td>0.006</td>\n",
              "    </tr>\n",
              "    <tr>\n",
              "      <th>0</th>\n",
              "      <td>Random Forest</td>\n",
              "      <td>treino</td>\n",
              "      <td>0.983</td>\n",
              "      <td>0.983</td>\n",
              "      <td>0.13</td>\n",
              "      <td>0.36</td>\n",
              "      <td>0.084</td>\n",
              "      <td>0.30</td>\n",
              "      <td>0.28</td>\n",
              "      <td>0.091</td>\n",
              "    </tr>\n",
              "    <tr>\n",
              "      <th>0</th>\n",
              "      <td>Decision Tree</td>\n",
              "      <td>treino</td>\n",
              "      <td>0.981</td>\n",
              "      <td>0.980</td>\n",
              "      <td>0.16</td>\n",
              "      <td>0.40</td>\n",
              "      <td>0.088</td>\n",
              "      <td>0.33</td>\n",
              "      <td>0.30</td>\n",
              "      <td>0.096</td>\n",
              "    </tr>\n",
              "    <tr>\n",
              "      <th>1</th>\n",
              "      <td>Regressão Linear</td>\n",
              "      <td>teste</td>\n",
              "      <td>1.000</td>\n",
              "      <td>1.000</td>\n",
              "      <td>0.00</td>\n",
              "      <td>0.00</td>\n",
              "      <td>0.000</td>\n",
              "      <td>0.00</td>\n",
              "      <td>0.00</td>\n",
              "      <td>0.000</td>\n",
              "    </tr>\n",
              "    <tr>\n",
              "      <th>1</th>\n",
              "      <td>Ridge</td>\n",
              "      <td>teste</td>\n",
              "      <td>0.996</td>\n",
              "      <td>0.995</td>\n",
              "      <td>0.01</td>\n",
              "      <td>0.10</td>\n",
              "      <td>0.008</td>\n",
              "      <td>0.07</td>\n",
              "      <td>0.06</td>\n",
              "      <td>0.007</td>\n",
              "    </tr>\n",
              "    <tr>\n",
              "      <th>1</th>\n",
              "      <td>LGMB Regression</td>\n",
              "      <td>teste</td>\n",
              "      <td>0.990</td>\n",
              "      <td>0.990</td>\n",
              "      <td>0.02</td>\n",
              "      <td>0.14</td>\n",
              "      <td>0.011</td>\n",
              "      <td>0.10</td>\n",
              "      <td>0.09</td>\n",
              "      <td>0.010</td>\n",
              "    </tr>\n",
              "    <tr>\n",
              "      <th>1</th>\n",
              "      <td>XGBoost</td>\n",
              "      <td>teste</td>\n",
              "      <td>0.990</td>\n",
              "      <td>0.989</td>\n",
              "      <td>0.02</td>\n",
              "      <td>0.14</td>\n",
              "      <td>0.012</td>\n",
              "      <td>0.10</td>\n",
              "      <td>0.09</td>\n",
              "      <td>0.011</td>\n",
              "    </tr>\n",
              "    <tr>\n",
              "      <th>1</th>\n",
              "      <td>Random Forest</td>\n",
              "      <td>teste</td>\n",
              "      <td>0.856</td>\n",
              "      <td>0.848</td>\n",
              "      <td>0.23</td>\n",
              "      <td>0.48</td>\n",
              "      <td>0.043</td>\n",
              "      <td>0.41</td>\n",
              "      <td>0.40</td>\n",
              "      <td>0.040</td>\n",
              "    </tr>\n",
              "    <tr>\n",
              "      <th>1</th>\n",
              "      <td>Decision Tree</td>\n",
              "      <td>teste</td>\n",
              "      <td>0.810</td>\n",
              "      <td>0.801</td>\n",
              "      <td>0.30</td>\n",
              "      <td>0.55</td>\n",
              "      <td>0.050</td>\n",
              "      <td>0.46</td>\n",
              "      <td>0.44</td>\n",
              "      <td>0.046</td>\n",
              "    </tr>\n",
              "  </tbody>\n",
              "</table>\n",
              "</div>"
            ],
            "text/plain": [
              "        nome_modelo    modo     r2  r2_ajustado  ...  rmsle   mae  medae   mape\n",
              "0  Regressão Linear  treino  1.000        1.000  ...  0.000  0.00   0.00  0.000\n",
              "0             Ridge  treino  1.000        1.000  ...  0.006  0.02   0.02  0.006\n",
              "0   LGMB Regression  treino  1.000        1.000  ...  0.004  0.02   0.01  0.004\n",
              "0           XGBoost  treino  1.000        1.000  ...  0.006  0.02   0.02  0.006\n",
              "0     Random Forest  treino  0.983        0.983  ...  0.084  0.30   0.28  0.091\n",
              "0     Decision Tree  treino  0.981        0.980  ...  0.088  0.33   0.30  0.096\n",
              "1  Regressão Linear   teste  1.000        1.000  ...  0.000  0.00   0.00  0.000\n",
              "1             Ridge   teste  0.996        0.995  ...  0.008  0.07   0.06  0.007\n",
              "1   LGMB Regression   teste  0.990        0.990  ...  0.011  0.10   0.09  0.010\n",
              "1           XGBoost   teste  0.990        0.989  ...  0.012  0.10   0.09  0.011\n",
              "1     Random Forest   teste  0.856        0.848  ...  0.043  0.41   0.40  0.040\n",
              "1     Decision Tree   teste  0.810        0.801  ...  0.050  0.46   0.44  0.046\n",
              "\n",
              "[12 rows x 10 columns]"
            ]
          },
          "metadata": {},
          "execution_count": 92
        }
      ]
    },
    {
      "cell_type": "code",
      "metadata": {
        "id": "WXGh_b6NMKuf",
        "colab": {
          "base_uri": "https://localhost:8080/"
        },
        "outputId": "64cc37ba-6d7e-40b4-e346-0d90976e14e4"
      },
      "source": [
        "xgb_model[-1].get_params().keys()"
      ],
      "execution_count": 93,
      "outputs": [
        {
          "output_type": "execute_result",
          "data": {
            "text/plain": [
              "dict_keys(['base_score', 'booster', 'colsample_bylevel', 'colsample_bynode', 'colsample_bytree', 'gamma', 'importance_type', 'learning_rate', 'max_delta_step', 'max_depth', 'min_child_weight', 'missing', 'n_estimators', 'n_jobs', 'nthread', 'objective', 'random_state', 'reg_alpha', 'reg_lambda', 'scale_pos_weight', 'seed', 'silent', 'subsample', 'verbosity'])"
            ]
          },
          "metadata": {},
          "execution_count": 93
        }
      ]
    },
    {
      "cell_type": "markdown",
      "metadata": {
        "id": "lyYq7XN2rRm1"
      },
      "source": [
        "# Usando o GRID SEARCH\n"
      ]
    },
    {
      "cell_type": "code",
      "metadata": {
        "id": "ZtvxDgUGMPgC"
      },
      "source": [
        "from sklearn.model_selection import GridSearchCV\n",
        "from xgboost import XGBRegressor\n",
        "from sklearn.model_selection import KFold\n",
        "\n",
        "parameters = {'xgb__learning_rate': [0.01, 0.015, 0.025], \n",
        "              'xgb__n_estimators': [500, 1000, 2000],\n",
        "              'xgb__max_depth': [3, 5],\n",
        "              'xgb__subsample': [0.6, 0.7, 0.8],\n",
        "              'xgb__colsample_bytree': [0.6, 0.7, 0.8]}\n",
        "\n",
        "kfold = KFold(n_splits=5, shuffle=True, random_state=42)\n",
        "grid_search = GridSearchCV(xgb_model, parameters, cv=kfold, n_jobs=-1, verbose=2, refit=True)\n"
      ],
      "execution_count": 94,
      "outputs": []
    },
    {
      "cell_type": "code",
      "metadata": {
        "id": "b-49K1aYMiDb",
        "colab": {
          "base_uri": "https://localhost:8080/"
        },
        "outputId": "2f554cee-af1a-49f8-adf5-0cc9b1369844"
      },
      "source": [
        "grid_search.fit(X_train, y_train)"
      ],
      "execution_count": 95,
      "outputs": [
        {
          "output_type": "stream",
          "name": "stdout",
          "text": [
            "Fitting 5 folds for each of 162 candidates, totalling 810 fits\n"
          ]
        },
        {
          "output_type": "stream",
          "name": "stderr",
          "text": [
            "[Parallel(n_jobs=-1)]: Using backend LokyBackend with 2 concurrent workers.\n",
            "[Parallel(n_jobs=-1)]: Done  37 tasks      | elapsed:   59.7s\n",
            "[Parallel(n_jobs=-1)]: Done 158 tasks      | elapsed:  5.4min\n",
            "[Parallel(n_jobs=-1)]: Done 361 tasks      | elapsed: 14.1min\n",
            "[Parallel(n_jobs=-1)]: Done 644 tasks      | elapsed: 25.9min\n",
            "[Parallel(n_jobs=-1)]: Done 810 out of 810 | elapsed: 34.0min finished\n"
          ]
        },
        {
          "output_type": "stream",
          "name": "stdout",
          "text": [
            "[01:42:38] WARNING: /workspace/src/objective/regression_obj.cu:152: reg:linear is now deprecated in favor of reg:squarederror.\n"
          ]
        },
        {
          "output_type": "execute_result",
          "data": {
            "text/plain": [
              "GridSearchCV(cv=KFold(n_splits=5, random_state=42, shuffle=True),\n",
              "             error_score=nan,\n",
              "             estimator=Pipeline(memory=None,\n",
              "                                steps=[('xgb',\n",
              "                                        XGBRegressor(base_score=0.5,\n",
              "                                                     booster='gbtree',\n",
              "                                                     colsample_bylevel=1,\n",
              "                                                     colsample_bynode=1,\n",
              "                                                     colsample_bytree=1,\n",
              "                                                     gamma=0,\n",
              "                                                     importance_type='gain',\n",
              "                                                     learning_rate=0.1,\n",
              "                                                     max_delta_step=0,\n",
              "                                                     max_depth=3,\n",
              "                                                     min_child_weight=1,\n",
              "                                                     missing=None,\n",
              "                                                     n_estimators=...\n",
              "                                                     seed=None, silent=None,\n",
              "                                                     subsample=1,\n",
              "                                                     verbosity=1))],\n",
              "                                verbose=False),\n",
              "             iid='deprecated', n_jobs=-1,\n",
              "             param_grid={'xgb__colsample_bytree': [0.6, 0.7, 0.8],\n",
              "                         'xgb__learning_rate': [0.01, 0.015, 0.025],\n",
              "                         'xgb__max_depth': [3, 5],\n",
              "                         'xgb__n_estimators': [500, 1000, 2000],\n",
              "                         'xgb__subsample': [0.6, 0.7, 0.8]},\n",
              "             pre_dispatch='2*n_jobs', refit=True, return_train_score=False,\n",
              "             scoring=None, verbose=2)"
            ]
          },
          "metadata": {},
          "execution_count": 95
        }
      ]
    },
    {
      "cell_type": "code",
      "metadata": {
        "id": "UVusyq1jMkkw",
        "colab": {
          "base_uri": "https://localhost:8080/"
        },
        "outputId": "bf4eb753-7384-4709-b058-9d01a4855a9f"
      },
      "source": [
        "best_params = grid_search.best_params_\n",
        "best_params"
      ],
      "execution_count": 96,
      "outputs": [
        {
          "output_type": "execute_result",
          "data": {
            "text/plain": [
              "{'xgb__colsample_bytree': 0.7,\n",
              " 'xgb__learning_rate': 0.01,\n",
              " 'xgb__max_depth': 5,\n",
              " 'xgb__n_estimators': 2000,\n",
              " 'xgb__subsample': 0.6}"
            ]
          },
          "metadata": {},
          "execution_count": 96
        }
      ]
    },
    {
      "cell_type": "code",
      "metadata": {
        "id": "h2WtQeCjMqZU",
        "colab": {
          "base_uri": "https://localhost:8080/",
          "height": 117
        },
        "outputId": "9f535369-5bdf-4d45-f3f1-54380c278287"
      },
      "source": [
        "results = pd.DataFrame(grid_search.cv_results_)\n",
        "results.sort_values(by='rank_test_score').head(1)\n"
      ],
      "execution_count": 97,
      "outputs": [
        {
          "output_type": "execute_result",
          "data": {
            "text/html": [
              "<div>\n",
              "<style scoped>\n",
              "    .dataframe tbody tr th:only-of-type {\n",
              "        vertical-align: middle;\n",
              "    }\n",
              "\n",
              "    .dataframe tbody tr th {\n",
              "        vertical-align: top;\n",
              "    }\n",
              "\n",
              "    .dataframe thead th {\n",
              "        text-align: right;\n",
              "    }\n",
              "</style>\n",
              "<table border=\"1\" class=\"dataframe\">\n",
              "  <thead>\n",
              "    <tr style=\"text-align: right;\">\n",
              "      <th></th>\n",
              "      <th>mean_fit_time</th>\n",
              "      <th>std_fit_time</th>\n",
              "      <th>mean_score_time</th>\n",
              "      <th>std_score_time</th>\n",
              "      <th>param_xgb__colsample_bytree</th>\n",
              "      <th>param_xgb__learning_rate</th>\n",
              "      <th>param_xgb__max_depth</th>\n",
              "      <th>param_xgb__n_estimators</th>\n",
              "      <th>param_xgb__subsample</th>\n",
              "      <th>params</th>\n",
              "      <th>split0_test_score</th>\n",
              "      <th>split1_test_score</th>\n",
              "      <th>split2_test_score</th>\n",
              "      <th>split3_test_score</th>\n",
              "      <th>split4_test_score</th>\n",
              "      <th>mean_test_score</th>\n",
              "      <th>std_test_score</th>\n",
              "      <th>rank_test_score</th>\n",
              "    </tr>\n",
              "  </thead>\n",
              "  <tbody>\n",
              "    <tr>\n",
              "      <th>69</th>\n",
              "      <td>10.125482</td>\n",
              "      <td>0.054096</td>\n",
              "      <td>0.127911</td>\n",
              "      <td>0.003847</td>\n",
              "      <td>0.7</td>\n",
              "      <td>0.01</td>\n",
              "      <td>5</td>\n",
              "      <td>2000</td>\n",
              "      <td>0.6</td>\n",
              "      <td>{'xgb__colsample_bytree': 0.7, 'xgb__learning_...</td>\n",
              "      <td>0.999851</td>\n",
              "      <td>0.999843</td>\n",
              "      <td>0.999815</td>\n",
              "      <td>0.999841</td>\n",
              "      <td>0.999848</td>\n",
              "      <td>0.99984</td>\n",
              "      <td>0.000013</td>\n",
              "      <td>1</td>\n",
              "    </tr>\n",
              "  </tbody>\n",
              "</table>\n",
              "</div>"
            ],
            "text/plain": [
              "    mean_fit_time  std_fit_time  ...  std_test_score  rank_test_score\n",
              "69      10.125482      0.054096  ...        0.000013                1\n",
              "\n",
              "[1 rows x 18 columns]"
            ]
          },
          "metadata": {},
          "execution_count": 97
        }
      ]
    },
    {
      "cell_type": "code",
      "metadata": {
        "id": "r8I8qdP7MuFx"
      },
      "source": [
        "best_model = grid_search"
      ],
      "execution_count": 98,
      "outputs": []
    },
    {
      "cell_type": "code",
      "metadata": {
        "id": "CoWU7mbOMw2X"
      },
      "source": [
        "def adjusted_r2 (yt,ypt,Xt):                                        # Função r2 ajustado\n",
        "   r2          = r2_score(yt,ypt)\n",
        "   N           = len(yt)\n",
        "   p           = Xt.shape[1]\n",
        "   r2_ajustado = (1-((1-r2)*(N-1))/(N-p-1))\n",
        "   return r2_ajustado"
      ],
      "execution_count": 99,
      "outputs": []
    },
    {
      "cell_type": "code",
      "metadata": {
        "id": "wyu9-FTxMypY",
        "colab": {
          "base_uri": "https://localhost:8080/"
        },
        "outputId": "696c2e92-f058-45ef-e055-eb7a220382f5"
      },
      "source": [
        "y_pred_test_best = best_model.predict(X_test)\n",
        "r2_ajustado_best = round(adjusted_r2(y_test,y_pred_test_best,X_test),3)\n",
        "r2_ajustado_best"
      ],
      "execution_count": 100,
      "outputs": [
        {
          "output_type": "execute_result",
          "data": {
            "text/plain": [
              "0.987"
            ]
          },
          "metadata": {},
          "execution_count": 100
        }
      ]
    },
    {
      "cell_type": "code",
      "metadata": {
        "id": "TEvbKP4KM3XN",
        "colab": {
          "base_uri": "https://localhost:8080/",
          "height": 753
        },
        "outputId": "be606e0b-4226-4928-eb47-f9129a58f9fb"
      },
      "source": [
        "# plotando o mapa de calor da correlação entre as variáveis\n",
        "fig, ax = plt.subplots()\n",
        "\n",
        "plt.figure(figsize=(12,7))\n",
        "sns.heatmap(df_train.corr(),\n",
        "            annot = True,\n",
        "            fmt = '.2f',\n",
        "            cmap='Greens')\n",
        "plt.setp(ax.get_xticklabels(), rotation=45, ha=\"right\", rotation_mode=\"anchor\")\n",
        "plt.show()"
      ],
      "execution_count": 101,
      "outputs": [
        {
          "output_type": "display_data",
          "data": {
            "image/png": "[encoded data removed]",
            "text/plain": [
              "<Figure size 432x288 with 1 Axes>"
            ]
          },
          "metadata": {
            "needs_background": "light"
          }
        },
        {
          "output_type": "display_data",
          "data": {
            "image/png": "[encoded data removed]",
            "text/plain": [
              "<Figure size 864x504 with 2 Axes>"
            ]
          },
          "metadata": {
            "needs_background": "light"
          }
        }
      ]
    },
    {
      "cell_type": "code",
      "metadata": {
        "id": "_TzJ466IM5-X",
        "colab": {
          "base_uri": "https://localhost:8080/",
          "height": 313
        },
        "outputId": "2b897c36-9735-410d-84c8-01eda87a0b5e"
      },
      "source": [
        "from xgboost import plot_importance\n",
        "plot_importance(xgb_model[-1], height=.5,grid=False)\n"
      ],
      "execution_count": 102,
      "outputs": [
        {
          "output_type": "execute_result",
          "data": {
            "text/plain": [
              "<matplotlib.axes._subplots.AxesSubplot at 0x7f86780cde90>"
            ]
          },
          "metadata": {},
          "execution_count": 102
        },
        {
          "output_type": "display_data",
          "data": {
            "image/png": "[encoded data removed]",
            "text/plain": [
              "<Figure size 432x288 with 1 Axes>"
            ]
          },
          "metadata": {
            "needs_background": "light"
          }
        }
      ]
    },
    {
      "cell_type": "code",
      "metadata": {
        "id": "_ooCCbr9OUpq"
      },
      "source": [
        ""
      ],
      "execution_count": 102,
      "outputs": []
    }
  ]
}